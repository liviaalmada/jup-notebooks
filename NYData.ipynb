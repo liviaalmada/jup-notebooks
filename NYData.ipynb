{
 "cells": [
  {
   "cell_type": "code",
   "execution_count": 180,
   "metadata": {
    "collapsed": false,
    "deletable": true,
    "editable": true
   },
   "outputs": [],
   "source": [
    "import pandas as pd\n",
    "from py4j.java_gateway import JavaGateway\n",
    "import psycopg2\n",
    "import numpy as np"
   ]
  },
  {
   "cell_type": "code",
   "execution_count": 181,
   "metadata": {
    "collapsed": true,
    "deletable": true,
    "editable": true
   },
   "outputs": [],
   "source": [
    "home = \"/Users/liviaalmada/NYDataset/Link Level Traffic Estimates/\"\n",
    "home = \"/media/livia/DATA/Dropbox/TRABALHO/PESQUISA/Doutorado/Dados/NY-Data/\""
   ]
  },
  {
   "cell_type": "code",
   "execution_count": 183,
   "metadata": {
    "collapsed": false,
    "deletable": true,
    "editable": true
   },
   "outputs": [],
   "source": [
    "graphnodes = pd.read_csv(home+\"nodes.csv\")"
   ]
  },
  {
   "cell_type": "code",
   "execution_count": 184,
   "metadata": {
    "collapsed": false,
    "deletable": true,
    "editable": true
   },
   "outputs": [],
   "source": [
    "graphlinks = pd.read_csv(home+\"/links.csv\", delimiter=',')"
   ]
  },
  {
   "cell_type": "code",
   "execution_count": 185,
   "metadata": {
    "collapsed": false,
    "deletable": true,
    "editable": true
   },
   "outputs": [
    {
     "data": {
      "text/html": [
       "<div>\n",
       "<table border=\"1\" class=\"dataframe\">\n",
       "  <thead>\n",
       "    <tr style=\"text-align: right;\">\n",
       "      <th></th>\n",
       "      <th>node_id</th>\n",
       "      <th>is_complete</th>\n",
       "      <th>num_in_links</th>\n",
       "      <th>num_out_links</th>\n",
       "      <th>osm_traffic_controller</th>\n",
       "      <th>xcoord</th>\n",
       "      <th>ycoord</th>\n",
       "      <th>osm_changeset</th>\n",
       "      <th>birth_timestamp</th>\n",
       "      <th>death_timestamp</th>\n",
       "      <th>grid_region_id</th>\n",
       "    </tr>\n",
       "  </thead>\n",
       "  <tbody>\n",
       "    <tr>\n",
       "      <th>0</th>\n",
       "      <td>42467266</td>\n",
       "      <td>t</td>\n",
       "      <td>3</td>\n",
       "      <td>3</td>\n",
       "      <td>null</td>\n",
       "      <td>-73.917419</td>\n",
       "      <td>40.660051</td>\n",
       "      <td>3218174</td>\n",
       "      <td>1405267167641</td>\n",
       "      <td>40000000000000</td>\n",
       "      <td>225</td>\n",
       "    </tr>\n",
       "    <tr>\n",
       "      <th>1</th>\n",
       "      <td>42467262</td>\n",
       "      <td>t</td>\n",
       "      <td>4</td>\n",
       "      <td>4</td>\n",
       "      <td>null</td>\n",
       "      <td>-73.918294</td>\n",
       "      <td>40.659484</td>\n",
       "      <td>3218174</td>\n",
       "      <td>1405267167641</td>\n",
       "      <td>40000000000000</td>\n",
       "      <td>225</td>\n",
       "    </tr>\n",
       "    <tr>\n",
       "      <th>2</th>\n",
       "      <td>42467259</td>\n",
       "      <td>t</td>\n",
       "      <td>3</td>\n",
       "      <td>3</td>\n",
       "      <td>null</td>\n",
       "      <td>-73.919089</td>\n",
       "      <td>40.658966</td>\n",
       "      <td>3218174</td>\n",
       "      <td>1405267167641</td>\n",
       "      <td>40000000000000</td>\n",
       "      <td>205</td>\n",
       "    </tr>\n",
       "    <tr>\n",
       "      <th>3</th>\n",
       "      <td>42467258</td>\n",
       "      <td>t</td>\n",
       "      <td>3</td>\n",
       "      <td>3</td>\n",
       "      <td>null</td>\n",
       "      <td>-73.919968</td>\n",
       "      <td>40.658398</td>\n",
       "      <td>3218174</td>\n",
       "      <td>1405267167641</td>\n",
       "      <td>40000000000000</td>\n",
       "      <td>205</td>\n",
       "    </tr>\n",
       "    <tr>\n",
       "      <th>4</th>\n",
       "      <td>42467250</td>\n",
       "      <td>t</td>\n",
       "      <td>2</td>\n",
       "      <td>2</td>\n",
       "      <td>null</td>\n",
       "      <td>-74.005260</td>\n",
       "      <td>40.600091</td>\n",
       "      <td>7948780</td>\n",
       "      <td>1405267167641</td>\n",
       "      <td>40000000000000</td>\n",
       "      <td>143</td>\n",
       "    </tr>\n",
       "  </tbody>\n",
       "</table>\n",
       "</div>"
      ],
      "text/plain": [
       "    node_id is_complete  num_in_links  num_out_links osm_traffic_controller  \\\n",
       "0  42467266           t             3              3                   null   \n",
       "1  42467262           t             4              4                   null   \n",
       "2  42467259           t             3              3                   null   \n",
       "3  42467258           t             3              3                   null   \n",
       "4  42467250           t             2              2                   null   \n",
       "\n",
       "      xcoord     ycoord  osm_changeset  birth_timestamp  death_timestamp  \\\n",
       "0 -73.917419  40.660051        3218174    1405267167641   40000000000000   \n",
       "1 -73.918294  40.659484        3218174    1405267167641   40000000000000   \n",
       "2 -73.919089  40.658966        3218174    1405267167641   40000000000000   \n",
       "3 -73.919968  40.658398        3218174    1405267167641   40000000000000   \n",
       "4 -74.005260  40.600091        7948780    1405267167641   40000000000000   \n",
       "\n",
       "   grid_region_id  \n",
       "0             225  \n",
       "1             225  \n",
       "2             205  \n",
       "3             205  \n",
       "4             143  "
      ]
     },
     "execution_count": 185,
     "metadata": {},
     "output_type": "execute_result"
    }
   ],
   "source": [
    "graphnodes.head()"
   ]
  },
  {
   "cell_type": "code",
   "execution_count": 186,
   "metadata": {
    "collapsed": false,
    "deletable": true,
    "editable": true
   },
   "outputs": [
    {
     "data": {
      "text/html": [
       "<div>\n",
       "<table border=\"1\" class=\"dataframe\">\n",
       "  <thead>\n",
       "    <tr style=\"text-align: right;\">\n",
       "      <th></th>\n",
       "      <th>link_id</th>\n",
       "      <th>begin_node_id</th>\n",
       "      <th>end_node_id</th>\n",
       "      <th>begin_angle</th>\n",
       "      <th>end_angle</th>\n",
       "      <th>street_length</th>\n",
       "      <th>osm_name</th>\n",
       "      <th>osm_class</th>\n",
       "      <th>osm_way_id</th>\n",
       "      <th>startX</th>\n",
       "      <th>startY</th>\n",
       "      <th>endX</th>\n",
       "      <th>endY</th>\n",
       "      <th>osm_changeset</th>\n",
       "      <th>birth_timestamp</th>\n",
       "      <th>death_timestamp</th>\n",
       "    </tr>\n",
       "  </thead>\n",
       "  <tbody>\n",
       "    <tr>\n",
       "      <th>0</th>\n",
       "      <td>1</td>\n",
       "      <td>103235840</td>\n",
       "      <td>103225947</td>\n",
       "      <td>-161.51</td>\n",
       "      <td>16.99</td>\n",
       "      <td>84.295</td>\n",
       "      <td>PalisadeAvenue</td>\n",
       "      <td>tertiary</td>\n",
       "      <td>223694294</td>\n",
       "      <td>-74.021807</td>\n",
       "      <td>40.884127</td>\n",
       "      <td>-74.021994</td>\n",
       "      <td>40.883384</td>\n",
       "      <td>16353009</td>\n",
       "      <td>1405267167641</td>\n",
       "      <td>40000000000000</td>\n",
       "    </tr>\n",
       "    <tr>\n",
       "      <th>1</th>\n",
       "      <td>2</td>\n",
       "      <td>42516422</td>\n",
       "      <td>42516427</td>\n",
       "      <td>175.46</td>\n",
       "      <td>-4.68</td>\n",
       "      <td>260.392</td>\n",
       "      <td>SchenectadyAvenue</td>\n",
       "      <td>residential</td>\n",
       "      <td>5679907</td>\n",
       "      <td>-73.932264</td>\n",
       "      <td>40.641950</td>\n",
       "      <td>-73.932013</td>\n",
       "      <td>40.639616</td>\n",
       "      <td>19443546</td>\n",
       "      <td>1405267167641</td>\n",
       "      <td>40000000000000</td>\n",
       "    </tr>\n",
       "    <tr>\n",
       "      <th>2</th>\n",
       "      <td>3</td>\n",
       "      <td>42516422</td>\n",
       "      <td>42516418</td>\n",
       "      <td>-4.60</td>\n",
       "      <td>175.40</td>\n",
       "      <td>256.804</td>\n",
       "      <td>SchenectadyAvenue</td>\n",
       "      <td>residential</td>\n",
       "      <td>5679907</td>\n",
       "      <td>-73.932264</td>\n",
       "      <td>40.641950</td>\n",
       "      <td>-73.932509</td>\n",
       "      <td>40.644252</td>\n",
       "      <td>19443546</td>\n",
       "      <td>1405267167641</td>\n",
       "      <td>40000000000000</td>\n",
       "    </tr>\n",
       "    <tr>\n",
       "      <th>3</th>\n",
       "      <td>4</td>\n",
       "      <td>103235530</td>\n",
       "      <td>103235525</td>\n",
       "      <td>-103.43</td>\n",
       "      <td>82.40</td>\n",
       "      <td>76.107</td>\n",
       "      <td>HarristownRoad</td>\n",
       "      <td>tertiary</td>\n",
       "      <td>11580026</td>\n",
       "      <td>-74.142573</td>\n",
       "      <td>40.948839</td>\n",
       "      <td>-74.143464</td>\n",
       "      <td>40.948718</td>\n",
       "      <td>14802365</td>\n",
       "      <td>1405267167641</td>\n",
       "      <td>40000000000000</td>\n",
       "    </tr>\n",
       "    <tr>\n",
       "      <th>4</th>\n",
       "      <td>5</td>\n",
       "      <td>42762376</td>\n",
       "      <td>42756156</td>\n",
       "      <td>-23.92</td>\n",
       "      <td>156.25</td>\n",
       "      <td>197.829</td>\n",
       "      <td>KingslandAvenue</td>\n",
       "      <td>residential</td>\n",
       "      <td>5698286</td>\n",
       "      <td>-73.844794</td>\n",
       "      <td>40.877882</td>\n",
       "      <td>-73.845749</td>\n",
       "      <td>40.879508</td>\n",
       "      <td>8219326</td>\n",
       "      <td>1405267167641</td>\n",
       "      <td>40000000000000</td>\n",
       "    </tr>\n",
       "  </tbody>\n",
       "</table>\n",
       "</div>"
      ],
      "text/plain": [
       "   link_id  begin_node_id  end_node_id  begin_angle  end_angle  street_length  \\\n",
       "0        1      103235840    103225947      -161.51      16.99         84.295   \n",
       "1        2       42516422     42516427       175.46      -4.68        260.392   \n",
       "2        3       42516422     42516418        -4.60     175.40        256.804   \n",
       "3        4      103235530    103235525      -103.43      82.40         76.107   \n",
       "4        5       42762376     42756156       -23.92     156.25        197.829   \n",
       "\n",
       "            osm_name    osm_class  osm_way_id     startX     startY  \\\n",
       "0     PalisadeAvenue     tertiary   223694294 -74.021807  40.884127   \n",
       "1  SchenectadyAvenue  residential     5679907 -73.932264  40.641950   \n",
       "2  SchenectadyAvenue  residential     5679907 -73.932264  40.641950   \n",
       "3     HarristownRoad     tertiary    11580026 -74.142573  40.948839   \n",
       "4    KingslandAvenue  residential     5698286 -73.844794  40.877882   \n",
       "\n",
       "        endX       endY  osm_changeset  birth_timestamp  death_timestamp  \n",
       "0 -74.021994  40.883384       16353009    1405267167641   40000000000000  \n",
       "1 -73.932013  40.639616       19443546    1405267167641   40000000000000  \n",
       "2 -73.932509  40.644252       19443546    1405267167641   40000000000000  \n",
       "3 -74.143464  40.948718       14802365    1405267167641   40000000000000  \n",
       "4 -73.845749  40.879508        8219326    1405267167641   40000000000000  "
      ]
     },
     "execution_count": 186,
     "metadata": {},
     "output_type": "execute_result"
    }
   ],
   "source": [
    "graphlinks.head()"
   ]
  },
  {
   "cell_type": "markdown",
   "metadata": {
    "deletable": true,
    "editable": true
   },
   "source": [
    "### Create Graph"
   ]
  },
  {
   "cell_type": "code",
   "execution_count": 286,
   "metadata": {
    "collapsed": false,
    "deletable": true,
    "editable": true
   },
   "outputs": [],
   "source": [
    "gateway = JavaGateway() "
   ]
  },
  {
   "cell_type": "code",
   "execution_count": 287,
   "metadata": {
    "collapsed": false,
    "deletable": true,
    "editable": true
   },
   "outputs": [],
   "source": [
    "gateway.newGraph(\"ny\", home+\"graph\")"
   ]
  },
  {
   "cell_type": "code",
   "execution_count": 288,
   "metadata": {
    "collapsed": true,
    "deletable": true,
    "editable": true
   },
   "outputs": [],
   "source": [
    "graph = gateway.getGraph(\"ny\");"
   ]
  },
  {
   "cell_type": "code",
   "execution_count": 289,
   "metadata": {
    "collapsed": true
   },
   "outputs": [],
   "source": [
    "graph.setNumberOfIntervals(24)"
   ]
  },
  {
   "cell_type": "code",
   "execution_count": 290,
   "metadata": {
    "collapsed": true,
    "deletable": true,
    "editable": true
   },
   "outputs": [],
   "source": [
    "nodesMap = { }\n"
   ]
  },
  {
   "cell_type": "code",
   "execution_count": 291,
   "metadata": {
    "collapsed": false,
    "deletable": true,
    "editable": true
   },
   "outputs": [],
   "source": [
    "idn = 0\n",
    "for n in graphnodes.values:\n",
    "    #gateway.addNode(n[0], n[5], n[6])\n",
    "    nodesMap[n[0]] = idn\n",
    "    idn = idn + 1"
   ]
  },
  {
   "cell_type": "code",
   "execution_count": 292,
   "metadata": {
    "collapsed": false,
    "deletable": true,
    "editable": true
   },
   "outputs": [
    {
     "data": {
      "text/plain": [
       "0"
      ]
     },
     "execution_count": 292,
     "metadata": {},
     "output_type": "execute_result"
    }
   ],
   "source": [
    "graph.getNumberOfNodes()"
   ]
  },
  {
   "cell_type": "code",
   "execution_count": 293,
   "metadata": {
    "collapsed": false,
    "deletable": true,
    "editable": true
   },
   "outputs": [
    {
     "name": "stdout",
     "output_type": "stream",
     "text": [
      "None\n"
     ]
    }
   ],
   "source": [
    "print(nodesMap.get(0))"
   ]
  },
  {
   "cell_type": "code",
   "execution_count": 298,
   "metadata": {
    "collapsed": false,
    "deletable": true,
    "editable": true
   },
   "outputs": [],
   "source": [
    "nodesMap = dict()\n",
    "idn = 0\n",
    "for (idx, row) in graphlinks.iterrows():\n",
    "    \n",
    "    if(nodesMap.get(row['begin_node_id']) is None):\n",
    "        gateway.addNode( row['begin_node_id'] , row['startX'] , row['startY'])\n",
    "        nodesMap[row['begin_node_id']] = idn\n",
    "        idn = idn + 1\n",
    "    if(nodesMap.get(row['end_node_id']) is None):\n",
    "        gateway.addNode( row['end_node_id'] , row['endX'] , row['endY'])\n",
    "        nodesMap[row['end_node_id']] = idn\n",
    "        idn = idn + 1\n",
    "    gateway.addEdge(nodesMap.get(row['begin_node_id']), nodesMap.get(row['end_node_id']), row['street_length'])\n",
    "       "
   ]
  },
  {
   "cell_type": "code",
   "execution_count": 301,
   "metadata": {
    "collapsed": false,
    "deletable": true,
    "editable": true
   },
   "outputs": [
    {
     "data": {
      "text/plain": [
       "1304275"
      ]
     },
     "execution_count": 301,
     "metadata": {},
     "output_type": "execute_result"
    }
   ],
   "source": [
    "graph.getNumberOfEdges()"
   ]
  },
  {
   "cell_type": "code",
   "execution_count": 302,
   "metadata": {
    "collapsed": false,
    "deletable": true,
    "editable": true
   },
   "outputs": [
    {
     "data": {
      "text/plain": [
       "482850"
      ]
     },
     "execution_count": 302,
     "metadata": {},
     "output_type": "execute_result"
    }
   ],
   "source": [
    "graph.getNumberOfNodes()"
   ]
  },
  {
   "cell_type": "code",
   "execution_count": 305,
   "metadata": {
    "collapsed": true,
    "deletable": true,
    "editable": true
   },
   "outputs": [],
   "source": [
    "graphcosts = pd.read_csv(home+\"/links.csv\", delimiter=',')"
   ]
  },
  {
   "cell_type": "code",
   "execution_count": 307,
   "metadata": {
    "collapsed": false,
    "deletable": true,
    "editable": true
   },
   "outputs": [
    {
     "data": {
      "text/html": [
       "<div>\n",
       "<table border=\"1\" class=\"dataframe\">\n",
       "  <thead>\n",
       "    <tr style=\"text-align: right;\">\n",
       "      <th></th>\n",
       "      <th>link_id</th>\n",
       "      <th>begin_node_id</th>\n",
       "      <th>end_node_id</th>\n",
       "      <th>begin_angle</th>\n",
       "      <th>end_angle</th>\n",
       "      <th>street_length</th>\n",
       "      <th>osm_name</th>\n",
       "      <th>osm_class</th>\n",
       "      <th>osm_way_id</th>\n",
       "      <th>startX</th>\n",
       "      <th>startY</th>\n",
       "      <th>endX</th>\n",
       "      <th>endY</th>\n",
       "      <th>osm_changeset</th>\n",
       "      <th>birth_timestamp</th>\n",
       "      <th>death_timestamp</th>\n",
       "    </tr>\n",
       "  </thead>\n",
       "  <tbody>\n",
       "    <tr>\n",
       "      <th>0</th>\n",
       "      <td>1</td>\n",
       "      <td>103235840</td>\n",
       "      <td>103225947</td>\n",
       "      <td>-161.51</td>\n",
       "      <td>16.99</td>\n",
       "      <td>84.295</td>\n",
       "      <td>PalisadeAvenue</td>\n",
       "      <td>tertiary</td>\n",
       "      <td>223694294</td>\n",
       "      <td>-74.021807</td>\n",
       "      <td>40.884127</td>\n",
       "      <td>-74.021994</td>\n",
       "      <td>40.883384</td>\n",
       "      <td>16353009</td>\n",
       "      <td>1405267167641</td>\n",
       "      <td>40000000000000</td>\n",
       "    </tr>\n",
       "    <tr>\n",
       "      <th>1</th>\n",
       "      <td>2</td>\n",
       "      <td>42516422</td>\n",
       "      <td>42516427</td>\n",
       "      <td>175.46</td>\n",
       "      <td>-4.68</td>\n",
       "      <td>260.392</td>\n",
       "      <td>SchenectadyAvenue</td>\n",
       "      <td>residential</td>\n",
       "      <td>5679907</td>\n",
       "      <td>-73.932264</td>\n",
       "      <td>40.641950</td>\n",
       "      <td>-73.932013</td>\n",
       "      <td>40.639616</td>\n",
       "      <td>19443546</td>\n",
       "      <td>1405267167641</td>\n",
       "      <td>40000000000000</td>\n",
       "    </tr>\n",
       "    <tr>\n",
       "      <th>2</th>\n",
       "      <td>3</td>\n",
       "      <td>42516422</td>\n",
       "      <td>42516418</td>\n",
       "      <td>-4.60</td>\n",
       "      <td>175.40</td>\n",
       "      <td>256.804</td>\n",
       "      <td>SchenectadyAvenue</td>\n",
       "      <td>residential</td>\n",
       "      <td>5679907</td>\n",
       "      <td>-73.932264</td>\n",
       "      <td>40.641950</td>\n",
       "      <td>-73.932509</td>\n",
       "      <td>40.644252</td>\n",
       "      <td>19443546</td>\n",
       "      <td>1405267167641</td>\n",
       "      <td>40000000000000</td>\n",
       "    </tr>\n",
       "    <tr>\n",
       "      <th>3</th>\n",
       "      <td>4</td>\n",
       "      <td>103235530</td>\n",
       "      <td>103235525</td>\n",
       "      <td>-103.43</td>\n",
       "      <td>82.40</td>\n",
       "      <td>76.107</td>\n",
       "      <td>HarristownRoad</td>\n",
       "      <td>tertiary</td>\n",
       "      <td>11580026</td>\n",
       "      <td>-74.142573</td>\n",
       "      <td>40.948839</td>\n",
       "      <td>-74.143464</td>\n",
       "      <td>40.948718</td>\n",
       "      <td>14802365</td>\n",
       "      <td>1405267167641</td>\n",
       "      <td>40000000000000</td>\n",
       "    </tr>\n",
       "    <tr>\n",
       "      <th>4</th>\n",
       "      <td>5</td>\n",
       "      <td>42762376</td>\n",
       "      <td>42756156</td>\n",
       "      <td>-23.92</td>\n",
       "      <td>156.25</td>\n",
       "      <td>197.829</td>\n",
       "      <td>KingslandAvenue</td>\n",
       "      <td>residential</td>\n",
       "      <td>5698286</td>\n",
       "      <td>-73.844794</td>\n",
       "      <td>40.877882</td>\n",
       "      <td>-73.845749</td>\n",
       "      <td>40.879508</td>\n",
       "      <td>8219326</td>\n",
       "      <td>1405267167641</td>\n",
       "      <td>40000000000000</td>\n",
       "    </tr>\n",
       "  </tbody>\n",
       "</table>\n",
       "</div>"
      ],
      "text/plain": [
       "   link_id  begin_node_id  end_node_id  begin_angle  end_angle  street_length  \\\n",
       "0        1      103235840    103225947      -161.51      16.99         84.295   \n",
       "1        2       42516422     42516427       175.46      -4.68        260.392   \n",
       "2        3       42516422     42516418        -4.60     175.40        256.804   \n",
       "3        4      103235530    103235525      -103.43      82.40         76.107   \n",
       "4        5       42762376     42756156       -23.92     156.25        197.829   \n",
       "\n",
       "            osm_name    osm_class  osm_way_id     startX     startY  \\\n",
       "0     PalisadeAvenue     tertiary   223694294 -74.021807  40.884127   \n",
       "1  SchenectadyAvenue  residential     5679907 -73.932264  40.641950   \n",
       "2  SchenectadyAvenue  residential     5679907 -73.932264  40.641950   \n",
       "3     HarristownRoad     tertiary    11580026 -74.142573  40.948839   \n",
       "4    KingslandAvenue  residential     5698286 -73.844794  40.877882   \n",
       "\n",
       "        endX       endY  osm_changeset  birth_timestamp  death_timestamp  \n",
       "0 -74.021994  40.883384       16353009    1405267167641   40000000000000  \n",
       "1 -73.932013  40.639616       19443546    1405267167641   40000000000000  \n",
       "2 -73.932509  40.644252       19443546    1405267167641   40000000000000  \n",
       "3 -74.143464  40.948718       14802365    1405267167641   40000000000000  \n",
       "4 -73.845749  40.879508        8219326    1405267167641   40000000000000  "
      ]
     },
     "execution_count": 307,
     "metadata": {},
     "output_type": "execute_result"
    }
   ],
   "source": [
    "graphcosts.head()"
   ]
  },
  {
   "cell_type": "code",
   "execution_count": 308,
   "metadata": {
    "collapsed": false,
    "deletable": true,
    "editable": true
   },
   "outputs": [],
   "source": [
    "grouped = graphcosts.groupby('begin_node_id')"
   ]
  },
  {
   "cell_type": "code",
   "execution_count": 311,
   "metadata": {
    "collapsed": false,
    "deletable": true,
    "editable": true
   },
   "outputs": [
    {
     "data": {
      "text/plain": [
       "96435"
      ]
     },
     "execution_count": 311,
     "metadata": {},
     "output_type": "execute_result"
    }
   ],
   "source": [
    "grouped.ngroups"
   ]
  },
  {
   "cell_type": "markdown",
   "metadata": {
    "deletable": true,
    "editable": true
   },
   "source": [
    "## Generate graph costs"
   ]
  },
  {
   "cell_type": "code",
   "execution_count": 312,
   "metadata": {
    "collapsed": false,
    "deletable": true,
    "editable": true
   },
   "outputs": [],
   "source": [
    "conn = psycopg2.connect(host=\"localhost\", database=\"newyork\", user=\"postgres\")"
   ]
  },
  {
   "cell_type": "code",
   "execution_count": 313,
   "metadata": {
    "collapsed": true,
    "deletable": true,
    "editable": true
   },
   "outputs": [],
   "source": [
    "curs = conn.cursor()"
   ]
  },
  {
   "cell_type": "code",
   "execution_count": 315,
   "metadata": {
    "collapsed": false,
    "deletable": true,
    "editable": true
   },
   "outputs": [],
   "source": [
    "curs.execute(\"select begin_node_id, end_node_id, meantt, stdtt, hourday from gaussian_tt where weekday = 0 and begin_node_id<>0\")"
   ]
  },
  {
   "cell_type": "code",
   "execution_count": 317,
   "metadata": {
    "collapsed": false,
    "deletable": true,
    "editable": true
   },
   "outputs": [],
   "source": [
    "costs = curs.fetchall()"
   ]
  },
  {
   "cell_type": "code",
   "execution_count": 318,
   "metadata": {
    "collapsed": false,
    "deletable": true,
    "editable": true
   },
   "outputs": [],
   "source": [
    "costs\n",
    "curs.close()"
   ]
  },
  {
   "cell_type": "code",
   "execution_count": 320,
   "metadata": {
    "collapsed": false
   },
   "outputs": [
    {
     "data": {
      "text/plain": [
       "[]"
      ]
     },
     "execution_count": 320,
     "metadata": {},
     "output_type": "execute_result"
    }
   ],
   "source": [
    "costs"
   ]
  },
  {
   "cell_type": "code",
   "execution_count": 322,
   "metadata": {
    "collapsed": false,
    "deletable": true,
    "editable": true
   },
   "outputs": [],
   "source": [
    "for cost in costs:\n",
    "    node_from = nodesMap.get(cost[0])\n",
    "    node_to = nodesMap.get(cost[1])\n",
    "    meantt = cost[2]\n",
    "    stdtt = cost[3]\n",
    "    hourday = cost[4]\n",
    "    gateway.addGaussianCost(node_from,node_to,meantt, stdtt, int(hourday))"
   ]
  },
  {
   "cell_type": "code",
   "execution_count": 323,
   "metadata": {
    "collapsed": false
   },
   "outputs": [],
   "source": [
    "x = graph.getProbabilisticCosts(1)\n"
   ]
  },
  {
   "cell_type": "code",
   "execution_count": 324,
   "metadata": {
    "collapsed": false
   },
   "outputs": [],
   "source": [
    "gateway.runLinkScanWithKolnogorovSmirnovDistance(\"ny\", home+\"link2\", 0.5, 5, 20,2)"
   ]
  }
 ],
 "metadata": {
  "kernelspec": {
   "display_name": "Python 3",
   "language": "python",
   "name": "python3"
  },
  "language_info": {
   "codemirror_mode": {
    "name": "ipython",
    "version": 3
   },
   "file_extension": ".py",
   "mimetype": "text/x-python",
   "name": "python",
   "nbconvert_exporter": "python",
   "pygments_lexer": "ipython3",
   "version": "3.6.0"
  }
 },
 "nbformat": 4,
 "nbformat_minor": 2
}
