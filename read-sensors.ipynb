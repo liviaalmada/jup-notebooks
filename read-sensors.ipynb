{
 "cells": [
  {
   "cell_type": "code",
   "execution_count": 1,
   "metadata": {
    "collapsed": true
   },
   "outputs": [],
   "source": [
    "import numpy as np"
   ]
  },
  {
   "cell_type": "code",
   "execution_count": 4,
   "metadata": {},
   "outputs": [],
   "source": [
    "y = np.load('y_filtered_0102_new5.npy')"
   ]
  },
  {
   "cell_type": "code",
   "execution_count": 5,
   "metadata": {},
   "outputs": [
    {
     "data": {
      "text/plain": [
       "array([ 42.31506849,  42.91970803,  33.25      , ...,  29.61538462,\n",
       "        32.25      ,  48.09333333])"
      ]
     },
     "execution_count": 5,
     "metadata": {},
     "output_type": "execute_result"
    }
   ],
   "source": [
    "y"
   ]
  },
  {
   "cell_type": "code",
   "execution_count": 6,
   "metadata": {
    "collapsed": true
   },
   "outputs": [],
   "source": [
    "x = np.load('X_filtered_0102_new5.npy')"
   ]
  },
  {
   "cell_type": "code",
   "execution_count": 7,
   "metadata": {},
   "outputs": [
    {
     "data": {
      "text/plain": [
       "array([[  1.14000000e+02,   3.00000000e+00,   2.50000000e+02, ...,\n",
       "          1.00000000e+00,   6.70000000e+01,   2.32054100e+07],\n",
       "       [  7.80000000e+01,   3.00000000e+00,   2.02000000e+02, ...,\n",
       "          1.00000000e+00,   6.00000000e+01,   2.31850100e+07],\n",
       "       [  1.32000000e+02,   0.00000000e+00,   9.00000000e+00, ...,\n",
       "          1.00000000e+00,   6.70000000e+01,   2.31898050e+07],\n",
       "       ..., \n",
       "       [  1.29000000e+02,   2.00000000e+00,   1.34000000e+02, ...,\n",
       "          1.00000000e+00,   6.70000000e+01,   2.32134700e+07],\n",
       "       [  2.14000000e+02,   0.00000000e+00,   2.73000000e+02, ...,\n",
       "          1.00000000e+00,   6.70000000e+01,   2.31709650e+07],\n",
       "       [  5.70000000e+01,   3.00000000e+00,   1.09000000e+02, ...,\n",
       "          1.00000000e+00,   6.00000000e+01,   2.31845450e+07]])"
      ]
     },
     "execution_count": 7,
     "metadata": {},
     "output_type": "execute_result"
    }
   ],
   "source": [
    "x"
   ]
  },
  {
   "cell_type": "code",
   "execution_count": null,
   "metadata": {
    "collapsed": true
   },
   "outputs": [],
   "source": []
  }
 ],
 "metadata": {
  "kernelspec": {
   "display_name": "Python 3",
   "language": "python",
   "name": "python3"
  },
  "language_info": {
   "codemirror_mode": {
    "name": "ipython",
    "version": 3
   },
   "file_extension": ".py",
   "mimetype": "text/x-python",
   "name": "python",
   "nbconvert_exporter": "python",
   "pygments_lexer": "ipython3",
   "version": "3.6.1"
  }
 },
 "nbformat": 4,
 "nbformat_minor": 2
}
