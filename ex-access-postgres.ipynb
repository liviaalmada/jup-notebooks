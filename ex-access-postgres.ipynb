{
 "cells": [
  {
   "cell_type": "code",
   "execution_count": 2,
   "metadata": {},
   "outputs": [],
   "source": [
    "import psycopg2"
   ]
  },
  {
   "cell_type": "code",
   "execution_count": 4,
   "metadata": {},
   "outputs": [],
   "source": [
    "conn = psycopg2.connect(\"dbname=taxi-fortaleza user=postgres\")"
   ]
  },
  {
   "cell_type": "code",
   "execution_count": 5,
   "metadata": {
    "collapsed": true
   },
   "outputs": [],
   "source": [
    "curs = conn.cursor()"
   ]
  },
  {
   "cell_type": "code",
   "execution_count": 25,
   "metadata": {
    "collapsed": true
   },
   "outputs": [],
   "source": [
    "curs.execute(\"SELECT * FROM public.speed_observations where avg_speed_ms < 100\")"
   ]
  },
  {
   "cell_type": "code",
   "execution_count": 26,
   "metadata": {},
   "outputs": [
    {
     "data": {
      "text/plain": [
       "(48080,\n",
       " datetime.datetime(2016, 6, 1, 22, 34, 56, 267000),\n",
       " 27.0587855587944,\n",
       " 7038,\n",
       " 7037)"
      ]
     },
     "execution_count": 26,
     "metadata": {},
     "output_type": "execute_result"
    }
   ],
   "source": [
    "curs.fetchone()"
   ]
  },
  {
   "cell_type": "code",
   "execution_count": 31,
   "metadata": {},
   "outputs": [],
   "source": [
    "x = curs.fetchmany(5)"
   ]
  },
  {
   "cell_type": "code",
   "execution_count": 32,
   "metadata": {},
   "outputs": [
    {
     "data": {
      "text/plain": [
       "[(44210,\n",
       "  datetime.datetime(2016, 6, 1, 22, 38, 53, 708000),\n",
       "  47.6873115016726,\n",
       "  27882,\n",
       "  27920),\n",
       " (48080,\n",
       "  datetime.datetime(2016, 6, 1, 22, 34, 56, 298000),\n",
       "  27.0587855587944,\n",
       "  7038,\n",
       "  7037),\n",
       " (44210,\n",
       "  datetime.datetime(2016, 6, 1, 22, 38, 53, 710000),\n",
       "  47.6873115016726,\n",
       "  27882,\n",
       "  27920),\n",
       " (48080,\n",
       "  datetime.datetime(2016, 6, 1, 22, 34, 56, 302000),\n",
       "  27.0587855587944,\n",
       "  7038,\n",
       "  7037),\n",
       " (44210,\n",
       "  datetime.datetime(2016, 6, 1, 22, 38, 53, 711000),\n",
       "  47.6873115016726,\n",
       "  27882,\n",
       "  27920)]"
      ]
     },
     "execution_count": 32,
     "metadata": {},
     "output_type": "execute_result"
    }
   ],
   "source": [
    "x"
   ]
  },
  {
   "cell_type": "code",
   "execution_count": 29,
   "metadata": {
    "collapsed": true
   },
   "outputs": [],
   "source": [
    "from sklearn.utils import resample"
   ]
  },
  {
   "cell_type": "code",
   "execution_count": 34,
   "metadata": {},
   "outputs": [
    {
     "data": {
      "text/plain": [
       "[(48080,\n",
       "  datetime.datetime(2016, 6, 1, 22, 34, 56, 302000),\n",
       "  27.0587855587944,\n",
       "  7038,\n",
       "  7037),\n",
       " (44210,\n",
       "  datetime.datetime(2016, 6, 1, 22, 38, 53, 708000),\n",
       "  47.6873115016726,\n",
       "  27882,\n",
       "  27920),\n",
       " (48080,\n",
       "  datetime.datetime(2016, 6, 1, 22, 34, 56, 298000),\n",
       "  27.0587855587944,\n",
       "  7038,\n",
       "  7037),\n",
       " (44210,\n",
       "  datetime.datetime(2016, 6, 1, 22, 38, 53, 708000),\n",
       "  47.6873115016726,\n",
       "  27882,\n",
       "  27920),\n",
       " (44210,\n",
       "  datetime.datetime(2016, 6, 1, 22, 38, 53, 711000),\n",
       "  47.6873115016726,\n",
       "  27882,\n",
       "  27920),\n",
       " (48080,\n",
       "  datetime.datetime(2016, 6, 1, 22, 34, 56, 302000),\n",
       "  27.0587855587944,\n",
       "  7038,\n",
       "  7037),\n",
       " (44210,\n",
       "  datetime.datetime(2016, 6, 1, 22, 38, 53, 708000),\n",
       "  47.6873115016726,\n",
       "  27882,\n",
       "  27920),\n",
       " (44210,\n",
       "  datetime.datetime(2016, 6, 1, 22, 38, 53, 708000),\n",
       "  47.6873115016726,\n",
       "  27882,\n",
       "  27920),\n",
       " (44210,\n",
       "  datetime.datetime(2016, 6, 1, 22, 38, 53, 711000),\n",
       "  47.6873115016726,\n",
       "  27882,\n",
       "  27920),\n",
       " (48080,\n",
       "  datetime.datetime(2016, 6, 1, 22, 34, 56, 298000),\n",
       "  27.0587855587944,\n",
       "  7038,\n",
       "  7037)]"
      ]
     },
     "execution_count": 34,
     "metadata": {},
     "output_type": "execute_result"
    }
   ],
   "source": [
    "resample(x, n_samples=10, random_state=5)"
   ]
  }
 ],
 "metadata": {
  "kernelspec": {
   "display_name": "Python 3",
   "language": "python",
   "name": "python3"
  },
  "language_info": {
   "codemirror_mode": {
    "name": "ipython",
    "version": 3
   },
   "file_extension": ".py",
   "mimetype": "text/x-python",
   "name": "python",
   "nbconvert_exporter": "python",
   "pygments_lexer": "ipython3",
   "version": "3.6.1"
  }
 },
 "nbformat": 4,
 "nbformat_minor": 2
}
