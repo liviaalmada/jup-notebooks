{
 "cells": [
  {
   "cell_type": "code",
   "execution_count": 17,
   "metadata": {
    "collapsed": true
   },
   "outputs": [],
   "source": [
    "import psycopg2\n",
    "import pandas as pd"
   ]
  },
  {
   "cell_type": "code",
   "execution_count": 24,
   "metadata": {},
   "outputs": [],
   "source": [
    "def access(dbname, user, edge_id):\n",
    "    conn = psycopg2.connect(\"dbname=\"+dbname+\" user=\"+user)\n",
    "    curs = conn.cursor()\n",
    "    curs.execute(\"SELECT * FROM public.speed_observations where avg_speed_ms < 100 and edge_id_gh=\"+edge_id+\" order by edge_id_gh\")\n",
    "    x= curs.fetchall()\n",
    "    df = pd.DataFrame(x, columns=['edge','date','speed','from','to'])\n",
    "    return df"
   ]
  },
  {
   "cell_type": "code",
   "execution_count": 25,
   "metadata": {},
   "outputs": [],
   "source": [
    "x = access(\"taxi-fortaleza\", \"postgres\", \"1\")"
   ]
  }
 ],
 "metadata": {
  "kernelspec": {
   "display_name": "Python 3",
   "language": "python",
   "name": "python3"
  },
  "language_info": {
   "codemirror_mode": {
    "name": "ipython",
    "version": 3
   },
   "file_extension": ".py",
   "mimetype": "text/x-python",
   "name": "python",
   "nbconvert_exporter": "python",
   "pygments_lexer": "ipython3",
   "version": "3.6.1"
  }
 },
 "nbformat": 4,
 "nbformat_minor": 2
}
