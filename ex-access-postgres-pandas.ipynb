{
 "cells": [
  {
   "cell_type": "code",
   "execution_count": 35,
   "metadata": {
    "collapsed": true,
    "deletable": true,
    "editable": true
   },
   "outputs": [],
   "source": [
    "import psycopg2\n",
    "import pandas as pd\n",
    "import numpy as np\n",
    "#pd.set_option('display.mpl_style', 'default')\n",
    "import matplotlib.pyplot as plt\n",
    "%matplotlib inline  "
   ]
  },
  {
   "cell_type": "code",
   "execution_count": 22,
   "metadata": {
    "collapsed": true,
    "deletable": true,
    "editable": true
   },
   "outputs": [],
   "source": [
    "conn = psycopg2.connect(\"dbname=taxi-fortaleza user=postgres\")"
   ]
  },
  {
   "cell_type": "code",
   "execution_count": 23,
   "metadata": {
    "collapsed": true,
    "deletable": true,
    "editable": true
   },
   "outputs": [],
   "source": [
    "curs = conn.cursor()"
   ]
  },
  {
   "cell_type": "code",
   "execution_count": 24,
   "metadata": {
    "collapsed": true,
    "deletable": true,
    "editable": true
   },
   "outputs": [],
   "source": [
    "curs.execute(\"SELECT * FROM public.speed_observations_june where avg_speed_ms < 100 order by edge_id_gh\")"
   ]
  },
  {
   "cell_type": "code",
   "execution_count": 25,
   "metadata": {
    "collapsed": false,
    "deletable": true,
    "editable": true
   },
   "outputs": [
    {
     "data": {
      "text/plain": [
       "(982342631, 0, datetime.datetime(2016, 6, 27, 13, 54, 11), 18.021922146101, 1)"
      ]
     },
     "execution_count": 25,
     "metadata": {},
     "output_type": "execute_result"
    }
   ],
   "source": [
    "curs.fetchone()"
   ]
  },
  {
   "cell_type": "code",
   "execution_count": 26,
   "metadata": {
    "collapsed": true,
    "deletable": true,
    "editable": true
   },
   "outputs": [],
   "source": [
    "x = curs.fetchall()"
   ]
  },
  {
   "cell_type": "code",
   "execution_count": 27,
   "metadata": {
    "collapsed": true,
    "deletable": true,
    "editable": true
   },
   "outputs": [],
   "source": [
    "df = pd.DataFrame(x, columns=['traj', 'edge','date','speed','week_day'])"
   ]
  },
  {
   "cell_type": "code",
   "execution_count": 28,
   "metadata": {
    "collapsed": true,
    "deletable": true,
    "editable": true
   },
   "outputs": [],
   "source": [
    "from sklearn.utils import resample"
   ]
  },
  {
   "cell_type": "code",
   "execution_count": 29,
   "metadata": {
    "collapsed": false,
    "deletable": true,
    "editable": true
   },
   "outputs": [
    {
     "data": {
      "text/html": [
       "<div>\n",
       "<style>\n",
       "    .dataframe thead tr:only-child th {\n",
       "        text-align: right;\n",
       "    }\n",
       "\n",
       "    .dataframe thead th {\n",
       "        text-align: left;\n",
       "    }\n",
       "\n",
       "    .dataframe tbody tr th {\n",
       "        vertical-align: top;\n",
       "    }\n",
       "</style>\n",
       "<table border=\"1\" class=\"dataframe\">\n",
       "  <thead>\n",
       "    <tr style=\"text-align: right;\">\n",
       "      <th></th>\n",
       "      <th>traj</th>\n",
       "      <th>edge</th>\n",
       "      <th>date</th>\n",
       "      <th>speed</th>\n",
       "      <th>week_day</th>\n",
       "    </tr>\n",
       "  </thead>\n",
       "  <tbody>\n",
       "    <tr>\n",
       "      <th>0</th>\n",
       "      <td>982347328</td>\n",
       "      <td>0</td>\n",
       "      <td>2016-06-27 01:15:51</td>\n",
       "      <td>16.999433</td>\n",
       "      <td>1</td>\n",
       "    </tr>\n",
       "    <tr>\n",
       "      <th>1</th>\n",
       "      <td>982342631</td>\n",
       "      <td>0</td>\n",
       "      <td>2016-06-27 13:59:14</td>\n",
       "      <td>18.021922</td>\n",
       "      <td>1</td>\n",
       "    </tr>\n",
       "    <tr>\n",
       "      <th>2</th>\n",
       "      <td>982347328</td>\n",
       "      <td>0</td>\n",
       "      <td>2016-06-27 01:15:51</td>\n",
       "      <td>16.999433</td>\n",
       "      <td>1</td>\n",
       "    </tr>\n",
       "    <tr>\n",
       "      <th>3</th>\n",
       "      <td>982342631</td>\n",
       "      <td>0</td>\n",
       "      <td>2016-06-27 13:59:14</td>\n",
       "      <td>18.021922</td>\n",
       "      <td>1</td>\n",
       "    </tr>\n",
       "    <tr>\n",
       "      <th>4</th>\n",
       "      <td>982347328</td>\n",
       "      <td>0</td>\n",
       "      <td>2016-06-27 01:15:51</td>\n",
       "      <td>16.999433</td>\n",
       "      <td>1</td>\n",
       "    </tr>\n",
       "  </tbody>\n",
       "</table>\n",
       "</div>"
      ],
      "text/plain": [
       "        traj  edge                date      speed  week_day\n",
       "0  982347328     0 2016-06-27 01:15:51  16.999433         1\n",
       "1  982342631     0 2016-06-27 13:59:14  18.021922         1\n",
       "2  982347328     0 2016-06-27 01:15:51  16.999433         1\n",
       "3  982342631     0 2016-06-27 13:59:14  18.021922         1\n",
       "4  982347328     0 2016-06-27 01:15:51  16.999433         1"
      ]
     },
     "execution_count": 29,
     "metadata": {},
     "output_type": "execute_result"
    }
   ],
   "source": [
    "df.head()"
   ]
  },
  {
   "cell_type": "code",
   "execution_count": 36,
   "metadata": {
    "collapsed": false,
    "deletable": true,
    "editable": true
   },
   "outputs": [
    {
     "data": {
      "text/plain": [
       "<matplotlib.text.Text at 0x12f472860>"
      ]
     },
     "execution_count": 36,
     "metadata": {},
     "output_type": "execute_result"
    },
    {
     "data": {
      "image/png": "[encoded data removed]",
      "text/plain": [
       "<matplotlib.figure.Figure at 0x1453010f0>"
      ]
     },
     "metadata": {},
     "output_type": "display_data"
    }
   ],
   "source": [
    "plt.hist(df.speed)\n",
    "plt.title(\"Speed frequency\")\n",
    "plt.xlabel(\"Speed (Km/h)\")\n",
    "plt.ylabel(\"Frequency\")"
   ]
  },
  {
   "cell_type": "code",
   "execution_count": 38,
   "metadata": {
    "collapsed": false,
    "deletable": true,
    "editable": true
   },
   "outputs": [
    {
     "data": {
      "text/plain": [
       "<matplotlib.text.Text at 0x1254baa90>"
      ]
     },
     "execution_count": 38,
     "metadata": {},
     "output_type": "execute_result"
    },
    {
     "data": {
      "image/png": "[encoded data removed]",
      "text/plain": [
       "<matplotlib.figure.Figure at 0x130ba5048>"
      ]
     },
     "metadata": {},
     "output_type": "display_data"
    }
   ],
   "source": [
    "plt.hist(df.speed)\n",
    "plt.title(\"Speed frequency\")\n",
    "plt.xlabel(\"Speed (Km/h)\")\n",
    "plt.ylabel(\"Frequency\")"
   ]
  },
  {
   "cell_type": "code",
   "execution_count": 31,
   "metadata": {
    "collapsed": true,
    "deletable": true,
    "editable": true
   },
   "outputs": [],
   "source": [
    "ids = df.edge.unique()"
   ]
  },
  {
   "cell_type": "code",
   "execution_count": 32,
   "metadata": {
    "collapsed": false,
    "deletable": true,
    "editable": true
   },
   "outputs": [
    {
     "data": {
      "text/html": [
       "<div>\n",
       "<style>\n",
       "    .dataframe thead tr:only-child th {\n",
       "        text-align: right;\n",
       "    }\n",
       "\n",
       "    .dataframe thead th {\n",
       "        text-align: left;\n",
       "    }\n",
       "\n",
       "    .dataframe tbody tr th {\n",
       "        vertical-align: top;\n",
       "    }\n",
       "</style>\n",
       "<table border=\"1\" class=\"dataframe\">\n",
       "  <thead>\n",
       "    <tr style=\"text-align: right;\">\n",
       "      <th></th>\n",
       "      <th>traj</th>\n",
       "      <th>edge</th>\n",
       "      <th>date</th>\n",
       "      <th>speed</th>\n",
       "      <th>week_day</th>\n",
       "    </tr>\n",
       "  </thead>\n",
       "  <tbody>\n",
       "    <tr>\n",
       "      <th>0</th>\n",
       "      <td>982347328</td>\n",
       "      <td>0</td>\n",
       "      <td>2016-06-27 01:15:51</td>\n",
       "      <td>16.999433</td>\n",
       "      <td>1</td>\n",
       "    </tr>\n",
       "    <tr>\n",
       "      <th>1</th>\n",
       "      <td>982342631</td>\n",
       "      <td>0</td>\n",
       "      <td>2016-06-27 13:59:14</td>\n",
       "      <td>18.021922</td>\n",
       "      <td>1</td>\n",
       "    </tr>\n",
       "    <tr>\n",
       "      <th>2</th>\n",
       "      <td>982347328</td>\n",
       "      <td>0</td>\n",
       "      <td>2016-06-27 01:15:51</td>\n",
       "      <td>16.999433</td>\n",
       "      <td>1</td>\n",
       "    </tr>\n",
       "    <tr>\n",
       "      <th>3</th>\n",
       "      <td>982342631</td>\n",
       "      <td>0</td>\n",
       "      <td>2016-06-27 13:59:14</td>\n",
       "      <td>18.021922</td>\n",
       "      <td>1</td>\n",
       "    </tr>\n",
       "    <tr>\n",
       "      <th>4</th>\n",
       "      <td>982347328</td>\n",
       "      <td>0</td>\n",
       "      <td>2016-06-27 01:15:51</td>\n",
       "      <td>16.999433</td>\n",
       "      <td>1</td>\n",
       "    </tr>\n",
       "    <tr>\n",
       "      <th>5</th>\n",
       "      <td>982342631</td>\n",
       "      <td>0</td>\n",
       "      <td>2016-06-27 13:59:14</td>\n",
       "      <td>18.021922</td>\n",
       "      <td>1</td>\n",
       "    </tr>\n",
       "    <tr>\n",
       "      <th>6</th>\n",
       "      <td>982347328</td>\n",
       "      <td>0</td>\n",
       "      <td>2016-06-27 01:15:51</td>\n",
       "      <td>16.999433</td>\n",
       "      <td>1</td>\n",
       "    </tr>\n",
       "    <tr>\n",
       "      <th>7</th>\n",
       "      <td>982342631</td>\n",
       "      <td>0</td>\n",
       "      <td>2016-06-27 13:59:14</td>\n",
       "      <td>18.021922</td>\n",
       "      <td>1</td>\n",
       "    </tr>\n",
       "    <tr>\n",
       "      <th>8</th>\n",
       "      <td>982342631</td>\n",
       "      <td>0</td>\n",
       "      <td>2016-06-28 14:26:09</td>\n",
       "      <td>62.368475</td>\n",
       "      <td>2</td>\n",
       "    </tr>\n",
       "    <tr>\n",
       "      <th>9</th>\n",
       "      <td>982342631</td>\n",
       "      <td>0</td>\n",
       "      <td>2016-06-27 13:59:14</td>\n",
       "      <td>18.021922</td>\n",
       "      <td>1</td>\n",
       "    </tr>\n",
       "    <tr>\n",
       "      <th>10</th>\n",
       "      <td>982347328</td>\n",
       "      <td>0</td>\n",
       "      <td>2016-06-27 01:10:30</td>\n",
       "      <td>16.999433</td>\n",
       "      <td>1</td>\n",
       "    </tr>\n",
       "    <tr>\n",
       "      <th>11</th>\n",
       "      <td>982342631</td>\n",
       "      <td>0</td>\n",
       "      <td>2016-06-27 13:59:14</td>\n",
       "      <td>18.021922</td>\n",
       "      <td>1</td>\n",
       "    </tr>\n",
       "    <tr>\n",
       "      <th>12</th>\n",
       "      <td>982348155</td>\n",
       "      <td>0</td>\n",
       "      <td>2016-06-27 08:31:53</td>\n",
       "      <td>7.696895</td>\n",
       "      <td>1</td>\n",
       "    </tr>\n",
       "    <tr>\n",
       "      <th>13</th>\n",
       "      <td>982342631</td>\n",
       "      <td>0</td>\n",
       "      <td>2016-06-27 13:59:14</td>\n",
       "      <td>18.021922</td>\n",
       "      <td>1</td>\n",
       "    </tr>\n",
       "    <tr>\n",
       "      <th>14</th>\n",
       "      <td>982347417</td>\n",
       "      <td>0</td>\n",
       "      <td>2016-06-28 11:22:13</td>\n",
       "      <td>30.175325</td>\n",
       "      <td>2</td>\n",
       "    </tr>\n",
       "    <tr>\n",
       "      <th>15</th>\n",
       "      <td>982342631</td>\n",
       "      <td>0</td>\n",
       "      <td>2016-06-27 13:59:14</td>\n",
       "      <td>18.021922</td>\n",
       "      <td>1</td>\n",
       "    </tr>\n",
       "    <tr>\n",
       "      <th>16</th>\n",
       "      <td>982342631</td>\n",
       "      <td>0</td>\n",
       "      <td>2016-06-28 14:26:09</td>\n",
       "      <td>62.368475</td>\n",
       "      <td>2</td>\n",
       "    </tr>\n",
       "    <tr>\n",
       "      <th>17</th>\n",
       "      <td>982342631</td>\n",
       "      <td>0</td>\n",
       "      <td>2016-06-27 13:59:14</td>\n",
       "      <td>18.021922</td>\n",
       "      <td>1</td>\n",
       "    </tr>\n",
       "    <tr>\n",
       "      <th>18</th>\n",
       "      <td>982347417</td>\n",
       "      <td>0</td>\n",
       "      <td>2016-06-28 11:22:13</td>\n",
       "      <td>30.175325</td>\n",
       "      <td>2</td>\n",
       "    </tr>\n",
       "    <tr>\n",
       "      <th>19</th>\n",
       "      <td>982342631</td>\n",
       "      <td>0</td>\n",
       "      <td>2016-06-27 13:59:14</td>\n",
       "      <td>18.021922</td>\n",
       "      <td>1</td>\n",
       "    </tr>\n",
       "    <tr>\n",
       "      <th>20</th>\n",
       "      <td>982347417</td>\n",
       "      <td>0</td>\n",
       "      <td>2016-06-28 11:19:12</td>\n",
       "      <td>30.175325</td>\n",
       "      <td>2</td>\n",
       "    </tr>\n",
       "    <tr>\n",
       "      <th>21</th>\n",
       "      <td>982342631</td>\n",
       "      <td>0</td>\n",
       "      <td>2016-06-27 13:59:14</td>\n",
       "      <td>18.021922</td>\n",
       "      <td>1</td>\n",
       "    </tr>\n",
       "    <tr>\n",
       "      <th>22</th>\n",
       "      <td>982347417</td>\n",
       "      <td>0</td>\n",
       "      <td>2016-06-28 11:22:13</td>\n",
       "      <td>30.175325</td>\n",
       "      <td>2</td>\n",
       "    </tr>\n",
       "    <tr>\n",
       "      <th>23</th>\n",
       "      <td>982342631</td>\n",
       "      <td>0</td>\n",
       "      <td>2016-06-27 13:59:14</td>\n",
       "      <td>18.021922</td>\n",
       "      <td>1</td>\n",
       "    </tr>\n",
       "    <tr>\n",
       "      <th>24</th>\n",
       "      <td>982347328</td>\n",
       "      <td>0</td>\n",
       "      <td>2016-06-27 01:15:51</td>\n",
       "      <td>16.999433</td>\n",
       "      <td>1</td>\n",
       "    </tr>\n",
       "    <tr>\n",
       "      <th>25</th>\n",
       "      <td>982342631</td>\n",
       "      <td>0</td>\n",
       "      <td>2016-06-27 13:59:14</td>\n",
       "      <td>18.021922</td>\n",
       "      <td>1</td>\n",
       "    </tr>\n",
       "    <tr>\n",
       "      <th>26</th>\n",
       "      <td>982347328</td>\n",
       "      <td>0</td>\n",
       "      <td>2016-06-27 01:15:51</td>\n",
       "      <td>16.999433</td>\n",
       "      <td>1</td>\n",
       "    </tr>\n",
       "    <tr>\n",
       "      <th>27</th>\n",
       "      <td>982342631</td>\n",
       "      <td>0</td>\n",
       "      <td>2016-06-27 13:59:14</td>\n",
       "      <td>18.021922</td>\n",
       "      <td>1</td>\n",
       "    </tr>\n",
       "    <tr>\n",
       "      <th>28</th>\n",
       "      <td>982348626</td>\n",
       "      <td>0</td>\n",
       "      <td>2016-06-29 13:21:53</td>\n",
       "      <td>55.577371</td>\n",
       "      <td>3</td>\n",
       "    </tr>\n",
       "    <tr>\n",
       "      <th>29</th>\n",
       "      <td>982342631</td>\n",
       "      <td>0</td>\n",
       "      <td>2016-06-27 13:59:14</td>\n",
       "      <td>18.021922</td>\n",
       "      <td>1</td>\n",
       "    </tr>\n",
       "    <tr>\n",
       "      <th>...</th>\n",
       "      <td>...</td>\n",
       "      <td>...</td>\n",
       "      <td>...</td>\n",
       "      <td>...</td>\n",
       "      <td>...</td>\n",
       "    </tr>\n",
       "    <tr>\n",
       "      <th>686</th>\n",
       "      <td>982344166</td>\n",
       "      <td>0</td>\n",
       "      <td>2016-06-19 15:34:52</td>\n",
       "      <td>53.911157</td>\n",
       "      <td>0</td>\n",
       "    </tr>\n",
       "    <tr>\n",
       "      <th>687</th>\n",
       "      <td>982344166</td>\n",
       "      <td>0</td>\n",
       "      <td>2016-06-19 15:34:52</td>\n",
       "      <td>53.911157</td>\n",
       "      <td>0</td>\n",
       "    </tr>\n",
       "    <tr>\n",
       "      <th>688</th>\n",
       "      <td>982344166</td>\n",
       "      <td>0</td>\n",
       "      <td>2016-06-19 15:34:52</td>\n",
       "      <td>53.911157</td>\n",
       "      <td>0</td>\n",
       "    </tr>\n",
       "    <tr>\n",
       "      <th>689</th>\n",
       "      <td>982344166</td>\n",
       "      <td>0</td>\n",
       "      <td>2016-06-19 15:34:52</td>\n",
       "      <td>53.911157</td>\n",
       "      <td>0</td>\n",
       "    </tr>\n",
       "    <tr>\n",
       "      <th>690</th>\n",
       "      <td>982347022</td>\n",
       "      <td>0</td>\n",
       "      <td>2016-06-19 00:44:03</td>\n",
       "      <td>54.379880</td>\n",
       "      <td>0</td>\n",
       "    </tr>\n",
       "    <tr>\n",
       "      <th>691</th>\n",
       "      <td>982344166</td>\n",
       "      <td>0</td>\n",
       "      <td>2016-06-19 15:34:52</td>\n",
       "      <td>53.911157</td>\n",
       "      <td>0</td>\n",
       "    </tr>\n",
       "    <tr>\n",
       "      <th>692</th>\n",
       "      <td>982344166</td>\n",
       "      <td>0</td>\n",
       "      <td>2016-06-19 15:34:52</td>\n",
       "      <td>53.911157</td>\n",
       "      <td>0</td>\n",
       "    </tr>\n",
       "    <tr>\n",
       "      <th>693</th>\n",
       "      <td>982344166</td>\n",
       "      <td>0</td>\n",
       "      <td>2016-06-19 15:34:52</td>\n",
       "      <td>53.911157</td>\n",
       "      <td>0</td>\n",
       "    </tr>\n",
       "    <tr>\n",
       "      <th>694</th>\n",
       "      <td>982344166</td>\n",
       "      <td>0</td>\n",
       "      <td>2016-06-19 15:34:52</td>\n",
       "      <td>53.911157</td>\n",
       "      <td>0</td>\n",
       "    </tr>\n",
       "    <tr>\n",
       "      <th>695</th>\n",
       "      <td>982344166</td>\n",
       "      <td>0</td>\n",
       "      <td>2016-06-19 15:34:52</td>\n",
       "      <td>53.911157</td>\n",
       "      <td>0</td>\n",
       "    </tr>\n",
       "    <tr>\n",
       "      <th>696</th>\n",
       "      <td>982344166</td>\n",
       "      <td>0</td>\n",
       "      <td>2016-06-19 15:34:52</td>\n",
       "      <td>53.911157</td>\n",
       "      <td>0</td>\n",
       "    </tr>\n",
       "    <tr>\n",
       "      <th>697</th>\n",
       "      <td>982344166</td>\n",
       "      <td>0</td>\n",
       "      <td>2016-06-19 15:34:52</td>\n",
       "      <td>53.911157</td>\n",
       "      <td>0</td>\n",
       "    </tr>\n",
       "    <tr>\n",
       "      <th>698</th>\n",
       "      <td>982346514</td>\n",
       "      <td>0</td>\n",
       "      <td>2016-06-19 01:46:13</td>\n",
       "      <td>46.856374</td>\n",
       "      <td>0</td>\n",
       "    </tr>\n",
       "    <tr>\n",
       "      <th>699</th>\n",
       "      <td>982344166</td>\n",
       "      <td>0</td>\n",
       "      <td>2016-06-19 15:34:52</td>\n",
       "      <td>53.911157</td>\n",
       "      <td>0</td>\n",
       "    </tr>\n",
       "    <tr>\n",
       "      <th>700</th>\n",
       "      <td>982335503</td>\n",
       "      <td>0</td>\n",
       "      <td>2016-06-19 02:04:19</td>\n",
       "      <td>59.682220</td>\n",
       "      <td>0</td>\n",
       "    </tr>\n",
       "    <tr>\n",
       "      <th>701</th>\n",
       "      <td>982348376</td>\n",
       "      <td>0</td>\n",
       "      <td>2016-06-19 02:39:01</td>\n",
       "      <td>43.873293</td>\n",
       "      <td>0</td>\n",
       "    </tr>\n",
       "    <tr>\n",
       "      <th>702</th>\n",
       "      <td>982348376</td>\n",
       "      <td>0</td>\n",
       "      <td>2016-06-19 02:41:05</td>\n",
       "      <td>43.873293</td>\n",
       "      <td>0</td>\n",
       "    </tr>\n",
       "    <tr>\n",
       "      <th>703</th>\n",
       "      <td>982348376</td>\n",
       "      <td>0</td>\n",
       "      <td>2016-06-19 02:41:05</td>\n",
       "      <td>43.873293</td>\n",
       "      <td>0</td>\n",
       "    </tr>\n",
       "    <tr>\n",
       "      <th>704</th>\n",
       "      <td>982348376</td>\n",
       "      <td>0</td>\n",
       "      <td>2016-06-19 02:41:05</td>\n",
       "      <td>43.873293</td>\n",
       "      <td>0</td>\n",
       "    </tr>\n",
       "    <tr>\n",
       "      <th>705</th>\n",
       "      <td>982348376</td>\n",
       "      <td>0</td>\n",
       "      <td>2016-06-19 02:41:05</td>\n",
       "      <td>43.873293</td>\n",
       "      <td>0</td>\n",
       "    </tr>\n",
       "    <tr>\n",
       "      <th>706</th>\n",
       "      <td>982348376</td>\n",
       "      <td>0</td>\n",
       "      <td>2016-06-19 02:41:05</td>\n",
       "      <td>43.873293</td>\n",
       "      <td>0</td>\n",
       "    </tr>\n",
       "    <tr>\n",
       "      <th>707</th>\n",
       "      <td>982348376</td>\n",
       "      <td>0</td>\n",
       "      <td>2016-06-19 02:41:05</td>\n",
       "      <td>43.873293</td>\n",
       "      <td>0</td>\n",
       "    </tr>\n",
       "    <tr>\n",
       "      <th>708</th>\n",
       "      <td>982344166</td>\n",
       "      <td>0</td>\n",
       "      <td>2016-06-19 15:34:52</td>\n",
       "      <td>53.911157</td>\n",
       "      <td>0</td>\n",
       "    </tr>\n",
       "    <tr>\n",
       "      <th>709</th>\n",
       "      <td>982348376</td>\n",
       "      <td>0</td>\n",
       "      <td>2016-06-19 02:41:05</td>\n",
       "      <td>43.873293</td>\n",
       "      <td>0</td>\n",
       "    </tr>\n",
       "    <tr>\n",
       "      <th>710</th>\n",
       "      <td>982346514</td>\n",
       "      <td>0</td>\n",
       "      <td>2016-06-19 01:46:13</td>\n",
       "      <td>46.856374</td>\n",
       "      <td>0</td>\n",
       "    </tr>\n",
       "    <tr>\n",
       "      <th>711</th>\n",
       "      <td>982346514</td>\n",
       "      <td>0</td>\n",
       "      <td>2016-06-19 01:46:13</td>\n",
       "      <td>46.856374</td>\n",
       "      <td>0</td>\n",
       "    </tr>\n",
       "    <tr>\n",
       "      <th>712</th>\n",
       "      <td>982346514</td>\n",
       "      <td>0</td>\n",
       "      <td>2016-06-19 01:46:13</td>\n",
       "      <td>46.856374</td>\n",
       "      <td>0</td>\n",
       "    </tr>\n",
       "    <tr>\n",
       "      <th>713</th>\n",
       "      <td>982346514</td>\n",
       "      <td>0</td>\n",
       "      <td>2016-06-19 01:46:13</td>\n",
       "      <td>46.856374</td>\n",
       "      <td>0</td>\n",
       "    </tr>\n",
       "    <tr>\n",
       "      <th>714</th>\n",
       "      <td>982346514</td>\n",
       "      <td>0</td>\n",
       "      <td>2016-06-19 01:46:13</td>\n",
       "      <td>46.856374</td>\n",
       "      <td>0</td>\n",
       "    </tr>\n",
       "    <tr>\n",
       "      <th>715</th>\n",
       "      <td>982346514</td>\n",
       "      <td>0</td>\n",
       "      <td>2016-06-19 01:46:13</td>\n",
       "      <td>46.856374</td>\n",
       "      <td>0</td>\n",
       "    </tr>\n",
       "  </tbody>\n",
       "</table>\n",
       "<p>716 rows × 5 columns</p>\n",
       "</div>"
      ],
      "text/plain": [
       "          traj  edge                date      speed  week_day\n",
       "0    982347328     0 2016-06-27 01:15:51  16.999433         1\n",
       "1    982342631     0 2016-06-27 13:59:14  18.021922         1\n",
       "2    982347328     0 2016-06-27 01:15:51  16.999433         1\n",
       "3    982342631     0 2016-06-27 13:59:14  18.021922         1\n",
       "4    982347328     0 2016-06-27 01:15:51  16.999433         1\n",
       "5    982342631     0 2016-06-27 13:59:14  18.021922         1\n",
       "6    982347328     0 2016-06-27 01:15:51  16.999433         1\n",
       "7    982342631     0 2016-06-27 13:59:14  18.021922         1\n",
       "8    982342631     0 2016-06-28 14:26:09  62.368475         2\n",
       "9    982342631     0 2016-06-27 13:59:14  18.021922         1\n",
       "10   982347328     0 2016-06-27 01:10:30  16.999433         1\n",
       "11   982342631     0 2016-06-27 13:59:14  18.021922         1\n",
       "12   982348155     0 2016-06-27 08:31:53   7.696895         1\n",
       "13   982342631     0 2016-06-27 13:59:14  18.021922         1\n",
       "14   982347417     0 2016-06-28 11:22:13  30.175325         2\n",
       "15   982342631     0 2016-06-27 13:59:14  18.021922         1\n",
       "16   982342631     0 2016-06-28 14:26:09  62.368475         2\n",
       "17   982342631     0 2016-06-27 13:59:14  18.021922         1\n",
       "18   982347417     0 2016-06-28 11:22:13  30.175325         2\n",
       "19   982342631     0 2016-06-27 13:59:14  18.021922         1\n",
       "20   982347417     0 2016-06-28 11:19:12  30.175325         2\n",
       "21   982342631     0 2016-06-27 13:59:14  18.021922         1\n",
       "22   982347417     0 2016-06-28 11:22:13  30.175325         2\n",
       "23   982342631     0 2016-06-27 13:59:14  18.021922         1\n",
       "24   982347328     0 2016-06-27 01:15:51  16.999433         1\n",
       "25   982342631     0 2016-06-27 13:59:14  18.021922         1\n",
       "26   982347328     0 2016-06-27 01:15:51  16.999433         1\n",
       "27   982342631     0 2016-06-27 13:59:14  18.021922         1\n",
       "28   982348626     0 2016-06-29 13:21:53  55.577371         3\n",
       "29   982342631     0 2016-06-27 13:59:14  18.021922         1\n",
       "..         ...   ...                 ...        ...       ...\n",
       "686  982344166     0 2016-06-19 15:34:52  53.911157         0\n",
       "687  982344166     0 2016-06-19 15:34:52  53.911157         0\n",
       "688  982344166     0 2016-06-19 15:34:52  53.911157         0\n",
       "689  982344166     0 2016-06-19 15:34:52  53.911157         0\n",
       "690  982347022     0 2016-06-19 00:44:03  54.379880         0\n",
       "691  982344166     0 2016-06-19 15:34:52  53.911157         0\n",
       "692  982344166     0 2016-06-19 15:34:52  53.911157         0\n",
       "693  982344166     0 2016-06-19 15:34:52  53.911157         0\n",
       "694  982344166     0 2016-06-19 15:34:52  53.911157         0\n",
       "695  982344166     0 2016-06-19 15:34:52  53.911157         0\n",
       "696  982344166     0 2016-06-19 15:34:52  53.911157         0\n",
       "697  982344166     0 2016-06-19 15:34:52  53.911157         0\n",
       "698  982346514     0 2016-06-19 01:46:13  46.856374         0\n",
       "699  982344166     0 2016-06-19 15:34:52  53.911157         0\n",
       "700  982335503     0 2016-06-19 02:04:19  59.682220         0\n",
       "701  982348376     0 2016-06-19 02:39:01  43.873293         0\n",
       "702  982348376     0 2016-06-19 02:41:05  43.873293         0\n",
       "703  982348376     0 2016-06-19 02:41:05  43.873293         0\n",
       "704  982348376     0 2016-06-19 02:41:05  43.873293         0\n",
       "705  982348376     0 2016-06-19 02:41:05  43.873293         0\n",
       "706  982348376     0 2016-06-19 02:41:05  43.873293         0\n",
       "707  982348376     0 2016-06-19 02:41:05  43.873293         0\n",
       "708  982344166     0 2016-06-19 15:34:52  53.911157         0\n",
       "709  982348376     0 2016-06-19 02:41:05  43.873293         0\n",
       "710  982346514     0 2016-06-19 01:46:13  46.856374         0\n",
       "711  982346514     0 2016-06-19 01:46:13  46.856374         0\n",
       "712  982346514     0 2016-06-19 01:46:13  46.856374         0\n",
       "713  982346514     0 2016-06-19 01:46:13  46.856374         0\n",
       "714  982346514     0 2016-06-19 01:46:13  46.856374         0\n",
       "715  982346514     0 2016-06-19 01:46:13  46.856374         0\n",
       "\n",
       "[716 rows x 5 columns]"
      ]
     },
     "execution_count": 32,
     "metadata": {},
     "output_type": "execute_result"
    }
   ],
   "source": [
    "df[df['edge']==0]"
   ]
  },
  {
   "cell_type": "code",
   "execution_count": 39,
   "metadata": {
    "collapsed": false,
    "deletable": true,
    "editable": true
   },
   "outputs": [
    {
     "data": {
      "text/plain": [
       "<matplotlib.text.Text at 0x125691198>"
      ]
     },
     "execution_count": 39,
     "metadata": {},
     "output_type": "execute_result"
    },
    {
     "data": {
      "image/png": "[encoded data removed]",
      "text/plain": [
       "<matplotlib.figure.Figure at 0x1255258d0>"
      ]
     },
     "metadata": {},
     "output_type": "display_data"
    }
   ],
   "source": [
    "plt.hist(df[df['edge']==1]['speed'])\n",
    "plt.title(\"Speed frequency\")\n",
    "plt.xlabel(\"Speed (Km/h)\")\n",
    "plt.ylabel(\"Frequency\")"
   ]
  },
  {
   "cell_type": "code",
   "execution_count": 41,
   "metadata": {
    "collapsed": false,
    "deletable": true,
    "editable": true
   },
   "outputs": [
    {
     "name": "stderr",
     "output_type": "stream",
     "text": [
      "/Users/liviaalmada/anaconda/lib/python3.6/site-packages/ipykernel_launcher.py:1: UserWarning: Boolean Series key will be reindexed to match DataFrame index.\n",
      "  \"\"\"Entry point for launching an IPython kernel.\n"
     ]
    },
    {
     "data": {
      "text/plain": [
       "<matplotlib.text.Text at 0x12301ab38>"
      ]
     },
     "execution_count": 41,
     "metadata": {},
     "output_type": "execute_result"
    },
    {
     "data": {
      "image/png": "[encoded data removed]",
      "text/plain": [
       "<matplotlib.figure.Figure at 0x12569f860>"
      ]
     },
     "metadata": {},
     "output_type": "display_data"
    }
   ],
   "source": [
    "t1 = df[df['date'].dt.hour > 8][df['date'].dt.hour < 16]\n",
    "plt.hist(t1[t1['edge']==1]['speed'], bins=20)\n",
    "plt.title(\"Speed frequency\")\n",
    "plt.xlabel(\"Speed (Km/h)\")\n",
    "plt.ylabel(\"Frequency\")"
   ]
  },
  {
   "cell_type": "code",
   "execution_count": 42,
   "metadata": {
    "collapsed": false,
    "deletable": true,
    "editable": true
   },
   "outputs": [
    {
     "data": {
      "text/plain": [
       "<matplotlib.text.Text at 0x123022c50>"
      ]
     },
     "execution_count": 42,
     "metadata": {},
     "output_type": "execute_result"
    },
    {
     "data": {
      "image/png": "[encoded data removed]",
      "text/plain": [
       "<matplotlib.figure.Figure at 0x1256ed5f8>"
      ]
     },
     "metadata": {},
     "output_type": "display_data"
    }
   ],
   "source": [
    "plt.hist(df[df['edge']==1]['speed'])\n",
    "plt.title(\"Speed frequency\")\n",
    "plt.xlabel(\"Speed (Km/h)\")\n",
    "plt.ylabel(\"Frequency\")"
   ]
  },
  {
   "cell_type": "code",
   "execution_count": 43,
   "metadata": {
    "collapsed": false,
    "deletable": true,
    "editable": true
   },
   "outputs": [
    {
     "data": {
      "text/plain": [
       "<matplotlib.text.Text at 0x1232ebb38>"
      ]
     },
     "execution_count": 43,
     "metadata": {},
     "output_type": "execute_result"
    },
    {
     "data": {
      "image/png": "[encoded data removed]",
      "text/plain": [
       "<matplotlib.figure.Figure at 0x12549cda0>"
      ]
     },
     "metadata": {},
     "output_type": "display_data"
    }
   ],
   "source": [
    "plt.hist(df[df['edge']==1]['speed'])\n",
    "plt.title(\"Speed frequency\")\n",
    "plt.xlabel(\"Speed (Km/h)\")\n",
    "plt.ylabel(\"Frequency\")"
   ]
  },
  {
   "cell_type": "code",
   "execution_count": 17,
   "metadata": {
    "collapsed": false,
    "deletable": true,
    "editable": true
   },
   "outputs": [
    {
     "data": {
      "text/plain": [
       "<matplotlib.text.Text at 0x11b0f16d8>"
      ]
     },
     "execution_count": 17,
     "metadata": {},
     "output_type": "execute_result"
    },
    {
     "data": {
      "image/png": "[encoded data removed]",
      "text/plain": [
       "<matplotlib.figure.Figure at 0x11b017710>"
      ]
     },
     "metadata": {},
     "output_type": "display_data"
    }
   ],
   "source": [
    "plt.hist(df[df['edge']==693]['speed']) #30 observações\n",
    "plt.title(\"Speed frequency\")\n",
    "plt.xlabel(\"Speed (Km/h)\")\n",
    "plt.ylabel(\"Frequency\")"
   ]
  }
 ],
 "metadata": {
  "kernelspec": {
   "display_name": "Python 3",
   "language": "python",
   "name": "python3"
  },
  "language_info": {
   "codemirror_mode": {
    "name": "ipython",
    "version": 3
   },
   "file_extension": ".py",
   "mimetype": "text/x-python",
   "name": "python",
   "nbconvert_exporter": "python",
   "pygments_lexer": "ipython3",
   "version": "3.6.0"
  }
 },
 "nbformat": 4,
 "nbformat_minor": 2
}
