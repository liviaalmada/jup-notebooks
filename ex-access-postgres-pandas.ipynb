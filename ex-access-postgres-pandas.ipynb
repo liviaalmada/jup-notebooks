{
 "cells": [
  {
   "cell_type": "code",
   "execution_count": 1,
   "metadata": {},
   "outputs": [
    {
     "name": "stderr",
     "output_type": "stream",
     "text": [
      "/Users/liviaalmada/anaconda/lib/python3.6/site-packages/IPython/core/interactiveshell.py:2881: FutureWarning: \n",
      "mpl_style had been deprecated and will be removed in a future version.\n",
      "Use `matplotlib.pyplot.style.use` instead.\n",
      "\n",
      "  exec(code_obj, self.user_global_ns, self.user_ns)\n"
     ]
    }
   ],
   "source": [
    "import psycopg2\n",
    "import pandas as pd\n",
    "import numpy as np\n",
    "import matplotlib.pyplot as plt\n",
    "pd.set_option('display.mpl_style', 'default')\n",
    "%matplotlib inline"
   ]
  },
  {
   "cell_type": "code",
   "execution_count": 2,
   "metadata": {
    "collapsed": true
   },
   "outputs": [],
   "source": [
    "conn = psycopg2.connect(\"dbname=taxi-fortaleza user=postgres\")"
   ]
  },
  {
   "cell_type": "code",
   "execution_count": 3,
   "metadata": {
    "collapsed": true
   },
   "outputs": [],
   "source": [
    "curs = conn.cursor()"
   ]
  },
  {
   "cell_type": "code",
   "execution_count": 4,
   "metadata": {
    "collapsed": true
   },
   "outputs": [],
   "source": [
    "curs.execute(\"SELECT * FROM public.speed_observations where avg_speed_ms < 100 order by edge_id_gh\")"
   ]
  },
  {
   "cell_type": "code",
   "execution_count": 5,
   "metadata": {},
   "outputs": [
    {
     "data": {
      "text/plain": [
       "(0,\n",
       " datetime.datetime(2016, 6, 16, 9, 24, 39, 824000),\n",
       " 40.3211590317907,\n",
       " 1,\n",
       " 33293)"
      ]
     },
     "execution_count": 5,
     "metadata": {},
     "output_type": "execute_result"
    }
   ],
   "source": [
    "curs.fetchone()"
   ]
  },
  {
   "cell_type": "code",
   "execution_count": 6,
   "metadata": {
    "collapsed": true
   },
   "outputs": [],
   "source": [
    "x = curs.fetchall()"
   ]
  },
  {
   "cell_type": "code",
   "execution_count": 7,
   "metadata": {
    "collapsed": true
   },
   "outputs": [],
   "source": [
    "df = pd.DataFrame(x, columns=['edge','date','speed','from','to'])"
   ]
  },
  {
   "cell_type": "code",
   "execution_count": 8,
   "metadata": {
    "collapsed": true
   },
   "outputs": [],
   "source": [
    "from sklearn.utils import resample"
   ]
  },
  {
   "cell_type": "code",
   "execution_count": 9,
   "metadata": {},
   "outputs": [
    {
     "data": {
      "text/html": [
       "<div>\n",
       "<style>\n",
       "    .dataframe thead tr:only-child th {\n",
       "        text-align: right;\n",
       "    }\n",
       "\n",
       "    .dataframe thead th {\n",
       "        text-align: left;\n",
       "    }\n",
       "\n",
       "    .dataframe tbody tr th {\n",
       "        vertical-align: top;\n",
       "    }\n",
       "</style>\n",
       "<table border=\"1\" class=\"dataframe\">\n",
       "  <thead>\n",
       "    <tr style=\"text-align: right;\">\n",
       "      <th></th>\n",
       "      <th>edge</th>\n",
       "      <th>date</th>\n",
       "      <th>speed</th>\n",
       "      <th>from</th>\n",
       "      <th>to</th>\n",
       "    </tr>\n",
       "  </thead>\n",
       "  <tbody>\n",
       "    <tr>\n",
       "      <th>0</th>\n",
       "      <td>0</td>\n",
       "      <td>2016-06-16 09:24:39.729</td>\n",
       "      <td>40.321159</td>\n",
       "      <td>1</td>\n",
       "      <td>33293</td>\n",
       "    </tr>\n",
       "    <tr>\n",
       "      <th>1</th>\n",
       "      <td>0</td>\n",
       "      <td>2016-06-16 09:24:39.736</td>\n",
       "      <td>40.321159</td>\n",
       "      <td>1</td>\n",
       "      <td>33293</td>\n",
       "    </tr>\n",
       "    <tr>\n",
       "      <th>2</th>\n",
       "      <td>0</td>\n",
       "      <td>2016-06-16 09:24:39.743</td>\n",
       "      <td>40.321159</td>\n",
       "      <td>1</td>\n",
       "      <td>33293</td>\n",
       "    </tr>\n",
       "    <tr>\n",
       "      <th>3</th>\n",
       "      <td>0</td>\n",
       "      <td>2016-06-16 09:24:39.750</td>\n",
       "      <td>40.321159</td>\n",
       "      <td>1</td>\n",
       "      <td>33293</td>\n",
       "    </tr>\n",
       "    <tr>\n",
       "      <th>4</th>\n",
       "      <td>0</td>\n",
       "      <td>2016-06-16 09:24:39.756</td>\n",
       "      <td>40.321159</td>\n",
       "      <td>1</td>\n",
       "      <td>33293</td>\n",
       "    </tr>\n",
       "  </tbody>\n",
       "</table>\n",
       "</div>"
      ],
      "text/plain": [
       "   edge                    date      speed  from     to\n",
       "0     0 2016-06-16 09:24:39.729  40.321159     1  33293\n",
       "1     0 2016-06-16 09:24:39.736  40.321159     1  33293\n",
       "2     0 2016-06-16 09:24:39.743  40.321159     1  33293\n",
       "3     0 2016-06-16 09:24:39.750  40.321159     1  33293\n",
       "4     0 2016-06-16 09:24:39.756  40.321159     1  33293"
      ]
     },
     "execution_count": 9,
     "metadata": {},
     "output_type": "execute_result"
    }
   ],
   "source": [
    "df.head()"
   ]
  },
  {
   "cell_type": "code",
   "execution_count": 10,
   "metadata": {},
   "outputs": [
    {
     "data": {
      "text/plain": [
       "<matplotlib.text.Text at 0x1170a6b38>"
      ]
     },
     "execution_count": 10,
     "metadata": {},
     "output_type": "execute_result"
    },
    {
     "data": {
      "image/png": "[encoded data removed]",
      "text/plain": [
       "<matplotlib.figure.Figure at 0x117071240>"
      ]
     },
     "metadata": {},
     "output_type": "display_data"
    }
   ],
   "source": [
    "plt.hist(df.speed)\n",
    "plt.title(\"Speed frequency\")\n",
    "plt.xlabel(\"Speed (Km/h)\")\n",
    "plt.ylabel(\"Frequency\")"
   ]
  },
  {
   "cell_type": "code",
   "execution_count": 11,
   "metadata": {
    "collapsed": true
   },
   "outputs": [],
   "source": [
    "ids = df.edge.unique()"
   ]
  },
  {
   "cell_type": "code",
   "execution_count": 12,
   "metadata": {},
   "outputs": [
    {
     "data": {
      "text/html": [
       "<div>\n",
       "<style>\n",
       "    .dataframe thead tr:only-child th {\n",
       "        text-align: right;\n",
       "    }\n",
       "\n",
       "    .dataframe thead th {\n",
       "        text-align: left;\n",
       "    }\n",
       "\n",
       "    .dataframe tbody tr th {\n",
       "        vertical-align: top;\n",
       "    }\n",
       "</style>\n",
       "<table border=\"1\" class=\"dataframe\">\n",
       "  <thead>\n",
       "    <tr style=\"text-align: right;\">\n",
       "      <th></th>\n",
       "      <th>edge</th>\n",
       "      <th>date</th>\n",
       "      <th>speed</th>\n",
       "      <th>from</th>\n",
       "      <th>to</th>\n",
       "    </tr>\n",
       "  </thead>\n",
       "  <tbody>\n",
       "    <tr>\n",
       "      <th>0</th>\n",
       "      <td>0</td>\n",
       "      <td>2016-06-16 09:24:39.729</td>\n",
       "      <td>40.321159</td>\n",
       "      <td>1</td>\n",
       "      <td>33293</td>\n",
       "    </tr>\n",
       "    <tr>\n",
       "      <th>1</th>\n",
       "      <td>0</td>\n",
       "      <td>2016-06-16 09:24:39.736</td>\n",
       "      <td>40.321159</td>\n",
       "      <td>1</td>\n",
       "      <td>33293</td>\n",
       "    </tr>\n",
       "    <tr>\n",
       "      <th>2</th>\n",
       "      <td>0</td>\n",
       "      <td>2016-06-16 09:24:39.743</td>\n",
       "      <td>40.321159</td>\n",
       "      <td>1</td>\n",
       "      <td>33293</td>\n",
       "    </tr>\n",
       "    <tr>\n",
       "      <th>3</th>\n",
       "      <td>0</td>\n",
       "      <td>2016-06-16 09:24:39.750</td>\n",
       "      <td>40.321159</td>\n",
       "      <td>1</td>\n",
       "      <td>33293</td>\n",
       "    </tr>\n",
       "    <tr>\n",
       "      <th>4</th>\n",
       "      <td>0</td>\n",
       "      <td>2016-06-16 09:24:39.756</td>\n",
       "      <td>40.321159</td>\n",
       "      <td>1</td>\n",
       "      <td>33293</td>\n",
       "    </tr>\n",
       "    <tr>\n",
       "      <th>5</th>\n",
       "      <td>0</td>\n",
       "      <td>2016-06-16 09:24:39.763</td>\n",
       "      <td>40.321159</td>\n",
       "      <td>1</td>\n",
       "      <td>33293</td>\n",
       "    </tr>\n",
       "    <tr>\n",
       "      <th>6</th>\n",
       "      <td>0</td>\n",
       "      <td>2016-06-16 09:24:39.770</td>\n",
       "      <td>40.321159</td>\n",
       "      <td>1</td>\n",
       "      <td>33293</td>\n",
       "    </tr>\n",
       "    <tr>\n",
       "      <th>7</th>\n",
       "      <td>0</td>\n",
       "      <td>2016-06-16 09:24:39.777</td>\n",
       "      <td>40.321159</td>\n",
       "      <td>1</td>\n",
       "      <td>33293</td>\n",
       "    </tr>\n",
       "    <tr>\n",
       "      <th>8</th>\n",
       "      <td>0</td>\n",
       "      <td>2016-06-16 09:24:39.783</td>\n",
       "      <td>40.321159</td>\n",
       "      <td>1</td>\n",
       "      <td>33293</td>\n",
       "    </tr>\n",
       "    <tr>\n",
       "      <th>9</th>\n",
       "      <td>0</td>\n",
       "      <td>2016-06-16 09:24:39.790</td>\n",
       "      <td>40.321159</td>\n",
       "      <td>1</td>\n",
       "      <td>33293</td>\n",
       "    </tr>\n",
       "    <tr>\n",
       "      <th>10</th>\n",
       "      <td>0</td>\n",
       "      <td>2016-06-16 09:24:39.722</td>\n",
       "      <td>40.321159</td>\n",
       "      <td>1</td>\n",
       "      <td>33293</td>\n",
       "    </tr>\n",
       "    <tr>\n",
       "      <th>11</th>\n",
       "      <td>0</td>\n",
       "      <td>2016-06-16 09:24:39.716</td>\n",
       "      <td>40.321159</td>\n",
       "      <td>1</td>\n",
       "      <td>33293</td>\n",
       "    </tr>\n",
       "    <tr>\n",
       "      <th>12</th>\n",
       "      <td>0</td>\n",
       "      <td>2016-06-16 09:24:39.709</td>\n",
       "      <td>40.321159</td>\n",
       "      <td>1</td>\n",
       "      <td>33293</td>\n",
       "    </tr>\n",
       "    <tr>\n",
       "      <th>13</th>\n",
       "      <td>0</td>\n",
       "      <td>2016-06-16 09:24:39.702</td>\n",
       "      <td>40.321159</td>\n",
       "      <td>1</td>\n",
       "      <td>33293</td>\n",
       "    </tr>\n",
       "    <tr>\n",
       "      <th>14</th>\n",
       "      <td>0</td>\n",
       "      <td>2016-06-16 09:24:39.695</td>\n",
       "      <td>40.321159</td>\n",
       "      <td>1</td>\n",
       "      <td>33293</td>\n",
       "    </tr>\n",
       "    <tr>\n",
       "      <th>15</th>\n",
       "      <td>0</td>\n",
       "      <td>2016-06-16 09:24:39.689</td>\n",
       "      <td>40.321159</td>\n",
       "      <td>1</td>\n",
       "      <td>33293</td>\n",
       "    </tr>\n",
       "    <tr>\n",
       "      <th>16</th>\n",
       "      <td>0</td>\n",
       "      <td>2016-06-16 09:24:39.682</td>\n",
       "      <td>40.321159</td>\n",
       "      <td>1</td>\n",
       "      <td>33293</td>\n",
       "    </tr>\n",
       "    <tr>\n",
       "      <th>17</th>\n",
       "      <td>0</td>\n",
       "      <td>2016-06-16 09:24:39.675</td>\n",
       "      <td>40.321159</td>\n",
       "      <td>1</td>\n",
       "      <td>33293</td>\n",
       "    </tr>\n",
       "    <tr>\n",
       "      <th>18</th>\n",
       "      <td>0</td>\n",
       "      <td>2016-06-16 09:24:39.668</td>\n",
       "      <td>40.321159</td>\n",
       "      <td>1</td>\n",
       "      <td>33293</td>\n",
       "    </tr>\n",
       "    <tr>\n",
       "      <th>19</th>\n",
       "      <td>0</td>\n",
       "      <td>2016-06-16 09:24:39.662</td>\n",
       "      <td>40.321159</td>\n",
       "      <td>1</td>\n",
       "      <td>33293</td>\n",
       "    </tr>\n",
       "    <tr>\n",
       "      <th>20</th>\n",
       "      <td>0</td>\n",
       "      <td>2016-06-16 09:24:39.655</td>\n",
       "      <td>40.321159</td>\n",
       "      <td>1</td>\n",
       "      <td>33293</td>\n",
       "    </tr>\n",
       "    <tr>\n",
       "      <th>21</th>\n",
       "      <td>0</td>\n",
       "      <td>2016-06-16 09:24:39.648</td>\n",
       "      <td>40.321159</td>\n",
       "      <td>1</td>\n",
       "      <td>33293</td>\n",
       "    </tr>\n",
       "    <tr>\n",
       "      <th>22</th>\n",
       "      <td>0</td>\n",
       "      <td>2016-06-16 09:24:39.810</td>\n",
       "      <td>40.321159</td>\n",
       "      <td>1</td>\n",
       "      <td>33293</td>\n",
       "    </tr>\n",
       "    <tr>\n",
       "      <th>23</th>\n",
       "      <td>0</td>\n",
       "      <td>2016-06-16 09:24:39.804</td>\n",
       "      <td>40.321159</td>\n",
       "      <td>1</td>\n",
       "      <td>33293</td>\n",
       "    </tr>\n",
       "    <tr>\n",
       "      <th>24</th>\n",
       "      <td>0</td>\n",
       "      <td>2016-06-16 09:24:39.797</td>\n",
       "      <td>40.321159</td>\n",
       "      <td>1</td>\n",
       "      <td>33293</td>\n",
       "    </tr>\n",
       "    <tr>\n",
       "      <th>25</th>\n",
       "      <td>0</td>\n",
       "      <td>2016-06-16 09:22:24.000</td>\n",
       "      <td>40.321159</td>\n",
       "      <td>1</td>\n",
       "      <td>33293</td>\n",
       "    </tr>\n",
       "  </tbody>\n",
       "</table>\n",
       "</div>"
      ],
      "text/plain": [
       "    edge                    date      speed  from     to\n",
       "0      0 2016-06-16 09:24:39.729  40.321159     1  33293\n",
       "1      0 2016-06-16 09:24:39.736  40.321159     1  33293\n",
       "2      0 2016-06-16 09:24:39.743  40.321159     1  33293\n",
       "3      0 2016-06-16 09:24:39.750  40.321159     1  33293\n",
       "4      0 2016-06-16 09:24:39.756  40.321159     1  33293\n",
       "5      0 2016-06-16 09:24:39.763  40.321159     1  33293\n",
       "6      0 2016-06-16 09:24:39.770  40.321159     1  33293\n",
       "7      0 2016-06-16 09:24:39.777  40.321159     1  33293\n",
       "8      0 2016-06-16 09:24:39.783  40.321159     1  33293\n",
       "9      0 2016-06-16 09:24:39.790  40.321159     1  33293\n",
       "10     0 2016-06-16 09:24:39.722  40.321159     1  33293\n",
       "11     0 2016-06-16 09:24:39.716  40.321159     1  33293\n",
       "12     0 2016-06-16 09:24:39.709  40.321159     1  33293\n",
       "13     0 2016-06-16 09:24:39.702  40.321159     1  33293\n",
       "14     0 2016-06-16 09:24:39.695  40.321159     1  33293\n",
       "15     0 2016-06-16 09:24:39.689  40.321159     1  33293\n",
       "16     0 2016-06-16 09:24:39.682  40.321159     1  33293\n",
       "17     0 2016-06-16 09:24:39.675  40.321159     1  33293\n",
       "18     0 2016-06-16 09:24:39.668  40.321159     1  33293\n",
       "19     0 2016-06-16 09:24:39.662  40.321159     1  33293\n",
       "20     0 2016-06-16 09:24:39.655  40.321159     1  33293\n",
       "21     0 2016-06-16 09:24:39.648  40.321159     1  33293\n",
       "22     0 2016-06-16 09:24:39.810  40.321159     1  33293\n",
       "23     0 2016-06-16 09:24:39.804  40.321159     1  33293\n",
       "24     0 2016-06-16 09:24:39.797  40.321159     1  33293\n",
       "25     0 2016-06-16 09:22:24.000  40.321159     1  33293"
      ]
     },
     "execution_count": 12,
     "metadata": {},
     "output_type": "execute_result"
    }
   ],
   "source": [
    "df[df['edge']==0]"
   ]
  },
  {
   "cell_type": "code",
   "execution_count": 13,
   "metadata": {},
   "outputs": [
    {
     "data": {
      "text/plain": [
       "<matplotlib.text.Text at 0x11a4e3588>"
      ]
     },
     "execution_count": 13,
     "metadata": {},
     "output_type": "execute_result"
    },
    {
     "data": {
      "image/png": "[encoded data removed]",
      "text/plain": [
       "<matplotlib.figure.Figure at 0x107ebdf28>"
      ]
     },
     "metadata": {},
     "output_type": "display_data"
    }
   ],
   "source": [
    "plt.hist(df[df['edge']==32532]['speed'])\n",
    "plt.title(\"Speed frequency\")\n",
    "plt.xlabel(\"Speed (Km/h)\")\n",
    "plt.ylabel(\"Frequency\")"
   ]
  },
  {
   "cell_type": "code",
   "execution_count": 14,
   "metadata": {},
   "outputs": [
    {
     "name": "stderr",
     "output_type": "stream",
     "text": [
      "/Users/liviaalmada/anaconda/lib/python3.6/site-packages/ipykernel_launcher.py:1: UserWarning: Boolean Series key will be reindexed to match DataFrame index.\n",
      "  \"\"\"Entry point for launching an IPython kernel.\n"
     ]
    },
    {
     "data": {
      "text/plain": [
       "<matplotlib.text.Text at 0x1080b8780>"
      ]
     },
     "execution_count": 14,
     "metadata": {},
     "output_type": "execute_result"
    },
    {
     "data": {
      "image/png": "[encoded data removed]",
      "text/plain": [
       "<matplotlib.figure.Figure at 0x10805aba8>"
      ]
     },
     "metadata": {},
     "output_type": "display_data"
    }
   ],
   "source": [
    "t1 = df[df['date'].dt.hour > 8][df['date'].dt.hour < 16]\n",
    "plt.hist(t1[t1['edge']==32532]['speed'], bins=20)\n",
    "plt.title(\"Speed frequency\")\n",
    "plt.xlabel(\"Speed (Km/h)\")\n",
    "plt.ylabel(\"Frequency\")"
   ]
  },
  {
   "cell_type": "code",
   "execution_count": 15,
   "metadata": {},
   "outputs": [
    {
     "data": {
      "text/plain": [
       "<matplotlib.text.Text at 0x11af53438>"
      ]
     },
     "execution_count": 15,
     "metadata": {},
     "output_type": "execute_result"
    },
    {
     "data": {
      "image/png": "[encoded data removed]",
      "text/plain": [
       "<matplotlib.figure.Figure at 0x1081e0d68>"
      ]
     },
     "metadata": {},
     "output_type": "display_data"
    }
   ],
   "source": [
    "plt.hist(df[df['edge']==647]['speed'])\n",
    "plt.title(\"Speed frequency\")\n",
    "plt.xlabel(\"Speed (Km/h)\")\n",
    "plt.ylabel(\"Frequency\")"
   ]
  },
  {
   "cell_type": "code",
   "execution_count": 16,
   "metadata": {},
   "outputs": [
    {
     "data": {
      "text/plain": [
       "<matplotlib.text.Text at 0x11b020048>"
      ]
     },
     "execution_count": 16,
     "metadata": {},
     "output_type": "execute_result"
    },
    {
     "data": {
      "image/png": "[encoded data removed]",
      "text/plain": [
       "<matplotlib.figure.Figure at 0x1170cb6d8>"
      ]
     },
     "metadata": {},
     "output_type": "display_data"
    }
   ],
   "source": [
    "plt.hist(df[df['edge']==55940]['speed'])\n",
    "plt.title(\"Speed frequency\")\n",
    "plt.xlabel(\"Speed (Km/h)\")\n",
    "plt.ylabel(\"Frequency\")"
   ]
  },
  {
   "cell_type": "code",
   "execution_count": 17,
   "metadata": {},
   "outputs": [
    {
     "data": {
      "text/plain": [
       "<matplotlib.text.Text at 0x11b0f16d8>"
      ]
     },
     "execution_count": 17,
     "metadata": {},
     "output_type": "execute_result"
    },
    {
     "data": {
      "image/png": "[encoded data removed]",
      "text/plain": [
       "<matplotlib.figure.Figure at 0x11b017710>"
      ]
     },
     "metadata": {},
     "output_type": "display_data"
    }
   ],
   "source": [
    "plt.hist(df[df['edge']==693]['speed']) #30 observações\n",
    "plt.title(\"Speed frequency\")\n",
    "plt.xlabel(\"Speed (Km/h)\")\n",
    "plt.ylabel(\"Frequency\")"
   ]
  }
 ],
 "metadata": {
  "kernelspec": {
   "display_name": "Python 3",
   "language": "python",
   "name": "python3"
  },
  "language_info": {
   "codemirror_mode": {
    "name": "ipython",
    "version": 3
   },
   "file_extension": ".py",
   "mimetype": "text/x-python",
   "name": "python",
   "nbconvert_exporter": "python",
   "pygments_lexer": "ipython3",
   "version": "3.6.1"
  }
 },
 "nbformat": 4,
 "nbformat_minor": 2
}
