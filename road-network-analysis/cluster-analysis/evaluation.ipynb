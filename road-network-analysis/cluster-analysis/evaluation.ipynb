{
 "cells": [
  {
   "cell_type": "code",
   "execution_count": 4,
   "metadata": {
    "collapsed": true
   },
   "outputs": [],
   "source": [
    "import pandas as pd\n",
    "from scipy import stats as st\n",
    "import numpy as np"
   ]
  },
  {
   "cell_type": "code",
   "execution_count": 5,
   "metadata": {
    "collapsed": true
   },
   "outputs": [],
   "source": [
    "def read_cluster_file(file_path):\n",
    "    d = pd.read_csv(file_path, delimiter=';', header=None)\n",
    "    clusters = list()\n",
    "    c = np.unique(d[0].get_values())\n",
    "    for cluster in c:\n",
    "        if(cluster!=0):\n",
    "            clusterl = d[d[0]==cluster].get_values()\n",
    "            clusters.append(clusterl)\n",
    "    noise = d[d[0]==0].get_values()\n",
    "    return (clusters, noise)"
   ]
  },
  {
   "cell_type": "code",
   "execution_count": 6,
   "metadata": {
    "collapsed": true
   },
   "outputs": [],
   "source": [
    "def clusters_size(clusters):\n",
    "    sizes = list()\n",
    "    for cluster in clusters:\n",
    "        sizes.append(len(cluster))\n",
    "    return sizes "
   ]
  },
  {
   "cell_type": "code",
   "execution_count": 7,
   "metadata": {
    "collapsed": true
   },
   "outputs": [],
   "source": [
    "def compactness(cluster):\n",
    "    n = 1\n",
    "    x = 0\n",
    "    for i in range(0,len(cluster)):\n",
    "        for j in range(i+1,len(cluster)):\n",
    "            if(i!=j):       \n",
    "                stat = st.kstest(st.norm.rvs(size=20, loc=cluster[i,6], scale=cluster[i,7]+1),\"norm\", args=(cluster[j,6],cluster[j,7]+1))\n",
    "                x = x + stat.statistic \n",
    "    return x/(len(cluster)*(len(cluster)-1)*2)"
   ]
  },
  {
   "cell_type": "code",
   "execution_count": 8,
   "metadata": {
    "collapsed": true
   },
   "outputs": [],
   "source": [
    "def separation(cluster1, cluster2):\n",
    "    n = 0\n",
    "    x = 0\n",
    "    for i in range(0,len(cluster1)):\n",
    "        for j in range(i+1,len(cluster2)):\n",
    "            stat = st.kstest(st.norm.rvs(size=20, loc=cluster1[i,6], scale=cluster1[i,7]+0.1),\"norm\", args=(cluster2[j,6],cluster2[j,7]+0.1))\n",
    "            x = x + stat.statistic \n",
    "            n=n+1\n",
    "    return x/n    "
   ]
  },
  {
   "cell_type": "code",
   "execution_count": 9,
   "metadata": {
    "collapsed": true
   },
   "outputs": [],
   "source": [
    "def compactness_mean(clusters):\n",
    "    sum_comp = 0\n",
    "    for c in clusters:\n",
    "        compac = compactness(c)\n",
    "        sum_comp = sum_comp + compac\n",
    "      \n",
    "    return sum_comp / len(clusters)"
   ]
  },
  {
   "cell_type": "code",
   "execution_count": 10,
   "metadata": {
    "collapsed": true
   },
   "outputs": [],
   "source": [
    "def separation_mean(clusters):\n",
    "    sum_comp = 0\n",
    "    for c1 in range(0,len(clusters)):\n",
    "        for c2 in range(c1+1,len(clusters)):\n",
    "            if(c1!=c2):\n",
    "                sum_comp = sum_comp + separation(clusters[c1],clusters[c2])\n",
    "    return sum_comp / (len(clusters)*(len(clusters)-1))"
   ]
  },
  {
   "cell_type": "code",
   "execution_count": 13,
   "metadata": {},
   "outputs": [],
   "source": [
    "def all_compactness(clusters, output):\n",
    "    comp = list() \n",
    "    for c in clusters:\n",
    "        comp.append(compactness(c))\n",
    "    np.savetxt(output, comp)    \n",
    "    return comp"
   ]
  },
  {
   "cell_type": "code",
   "execution_count": null,
   "metadata": {
    "collapsed": true
   },
   "outputs": [],
   "source": []
  }
 ],
 "metadata": {
  "kernelspec": {
   "display_name": "Python 3",
   "language": "python",
   "name": "python3"
  },
  "language_info": {
   "codemirror_mode": {
    "name": "ipython",
    "version": 3
   },
   "file_extension": ".py",
   "mimetype": "text/x-python",
   "name": "python",
   "nbconvert_exporter": "python",
   "pygments_lexer": "ipython3",
   "version": "3.6.1"
  }
 },
 "nbformat": 4,
 "nbformat_minor": 2
}
