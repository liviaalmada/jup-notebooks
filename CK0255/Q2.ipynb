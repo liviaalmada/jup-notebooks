{
 "cells": [
  {
   "cell_type": "code",
   "execution_count": 2,
   "metadata": {
    "collapsed": true,
    "deletable": true,
    "editable": true
   },
   "outputs": [],
   "source": [
    "import matplotlib.pyplot as plt\n",
    "import numpy as np\n",
    "import matplotlib.mlab as mlab\n",
    "from scipy.stats import norm\n",
    "\n",
    "from mpl_toolkits.mplot3d import Axes3D\n",
    "import matplotlib.pyplot as plt\n",
    "from matplotlib import cm\n",
    "from matplotlib.ticker import LinearLocator, FormatStrFormatter\n",
    "\n",
    "import math\n",
    "data = np.loadtxt(\"Data.txt\", delimiter=\"\t  \")"
   ]
  },
  {
   "cell_type": "markdown",
   "metadata": {
    "deletable": true,
    "editable": true
   },
   "source": [
    "## Firstly, estimate the parameters of this multivariate normal using the maximum likelihood principle."
   ]
  },
  {
   "cell_type": "code",
   "execution_count": 3,
   "metadata": {
    "collapsed": false,
    "deletable": true,
    "editable": true
   },
   "outputs": [],
   "source": [
    "def normalLoglikelihood(data):\n",
    "    mean = np.mean(data)\n",
    "    soma = np.sum(np.power(data-mean,2))\n",
    "    var = (1/len(data))*soma\n",
    "    return mean, var"
   ]
  },
  {
   "cell_type": "code",
   "execution_count": 4,
   "metadata": {
    "collapsed": false,
    "deletable": true,
    "editable": true
   },
   "outputs": [
    {
     "data": {
      "text/plain": [
       "array([ 0.77291471,  0.92087682,  0.12619353,  0.9091646 ,  0.66148213])"
      ]
     },
     "execution_count": 4,
     "metadata": {},
     "output_type": "execute_result"
    }
   ],
   "source": [
    "mean = np.mean(data, axis=0)\n",
    "mean"
   ]
  },
  {
   "cell_type": "code",
   "execution_count": 5,
   "metadata": {
    "collapsed": false,
    "deletable": true,
    "editable": true
   },
   "outputs": [
    {
     "name": "stdout",
     "output_type": "stream",
     "text": [
      "[[ 1.04306317  0.80588233  1.16113565  1.35940949  0.90060135]\n",
      " [ 0.80588233  1.72203546  1.73666803  1.54732501  1.55312727]\n",
      " [ 1.16113565  1.73666803  2.87426042  2.70179449  2.75686331]\n",
      " [ 1.35940949  1.54732501  2.70179449  2.99116633  2.73713501]\n",
      " [ 0.90060135  1.55312727  2.75686331  2.73713501  2.90998099]]\n"
     ]
    }
   ],
   "source": [
    "cov = np.cov(data.T)\n",
    "print(cov)\n",
    "#x = np.vstack([data[:,0],data[:,2]])\n",
    "#np.cov(x)"
   ]
  },
  {
   "cell_type": "markdown",
   "metadata": {
    "deletable": true,
    "editable": true
   },
   "source": [
    "## Plotting parameters for $X_1$ to $X_5$ (mean and variance)"
   ]
  },
  {
   "cell_type": "code",
   "execution_count": 9,
   "metadata": {
    "collapsed": true,
    "deletable": true,
    "editable": true
   },
   "outputs": [],
   "source": [
    "def plotGaussianPDF(mean, var):\n",
    "    std = np.sqrt(var)\n",
    "    x = np.arange(mean - 10*std, mean + 10*std, 0.1)\n",
    "    #fx = (1/(np.sqrt(2*np.pi*std)))*np.exp(-(1/2)*(x-mean)/std)\n",
    "    fx = mlab.normpdf(x, mean, var)\n",
    "    plt.plot(x, fx)\n",
    "    plt.show()"
   ]
  },
  {
   "cell_type": "markdown",
   "metadata": {
    "deletable": true,
    "editable": true
   },
   "source": [
    "## 2.1) Find $X_2$ and $X_2 |X_{1,3,4,5} = (x_1 , x_3 , x_4 , x_5 )'$"
   ]
  },
  {
   "cell_type": "code",
   "execution_count": 11,
   "metadata": {
    "collapsed": false
   },
   "outputs": [
    {
     "data": {
      "image/png": "[encoded data removed]",
      "text/plain": [
       "<matplotlib.figure.Figure at 0x7f51df608438>"
      ]
     },
     "metadata": {},
     "output_type": "display_data"
    }
   ],
   "source": [
    "meandX2 = mean[1]\n",
    "varX2 = cov[1,1]\n",
    "plotGaussianPDF(meandX2,varX2)"
   ]
  },
  {
   "cell_type": "markdown",
   "metadata": {},
   "source": [
    "### The corollary 2.1 shows that any marginal distribution of X is also normal Mean and covariance matrix are those from the partial vector. Using corollary 2.1 we have $X_2|X_{1,3,4,5}$ has a $N(\\mu_2,\\Sigma_2)$ distribution. Thus, it is the same of $X_2$."
   ]
  },
  {
   "cell_type": "code",
   "execution_count": 10,
   "metadata": {
    "collapsed": false,
    "deletable": true,
    "editable": true
   },
   "outputs": [
    {
     "data": {
      "image/png": "[encoded data removed]",
      "text/plain": [
       "<matplotlib.figure.Figure at 0x7f520cae95c0>"
      ]
     },
     "metadata": {},
     "output_type": "display_data"
    }
   ],
   "source": [
    "plotGaussianPDF(mean[1],cov[1,1])"
   ]
  },
  {
   "cell_type": "markdown",
   "metadata": {
    "collapsed": true,
    "deletable": true,
    "editable": true
   },
   "source": [
    "## 2.1) Find $X_{1,4}$ and $X_{1,4} |X_{2,3,5} = (x_2 , x_3 , x_5 )'$"
   ]
  },
  {
   "cell_type": "code",
   "execution_count": 27,
   "metadata": {
    "collapsed": false
   },
   "outputs": [
    {
     "data": {
      "text/plain": [
       "array([[-0.36550706, -1.4570533 ],\n",
       "       [-0.28504674, -1.7013038 ],\n",
       "       [-0.0181768 ,  0.69637051],\n",
       "       ..., \n",
       "       [ 1.3143012 ,  0.73321527],\n",
       "       [ 1.8704013 ,  1.4629421 ],\n",
       "       [ 1.7106215 ,  2.6302987 ]])"
      ]
     },
     "execution_count": 27,
     "metadata": {},
     "output_type": "execute_result"
    }
   ],
   "source": [
    "X = data[:,[0,3]]\n",
    "X"
   ]
  },
  {
   "cell_type": "code",
   "execution_count": 28,
   "metadata": {
    "collapsed": false
   },
   "outputs": [
    {
     "name": "stdout",
     "output_type": "stream",
     "text": [
      "[[ 1.04306317  1.35940949]\n",
      " [ 1.35940949  2.99116633]]\n"
     ]
    }
   ],
   "source": [
    "cov2 = np.cov(X.T)\n",
    "print(cov2)"
   ]
  },
  {
   "cell_type": "code",
   "execution_count": null,
   "metadata": {
    "collapsed": true
   },
   "outputs": [],
   "source": []
  }
 ],
 "metadata": {
  "kernelspec": {
   "display_name": "Python 3",
   "language": "python",
   "name": "python3"
  },
  "language_info": {
   "codemirror_mode": {
    "name": "ipython",
    "version": 3
   },
   "file_extension": ".py",
   "mimetype": "text/x-python",
   "name": "python",
   "nbconvert_exporter": "python",
   "pygments_lexer": "ipython3",
   "version": "3.6.0"
  }
 },
 "nbformat": 4,
 "nbformat_minor": 2
}
