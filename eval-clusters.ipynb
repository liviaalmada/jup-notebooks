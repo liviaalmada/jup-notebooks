{
 "cells": [
  {
   "cell_type": "code",
   "execution_count": 68,
   "metadata": {
    "collapsed": true
   },
   "outputs": [],
   "source": [
    "import pandas as pd\n",
    "from scipy import stats as st\n",
    "import numpy as np"
   ]
  },
  {
   "cell_type": "code",
   "execution_count": 71,
   "metadata": {},
   "outputs": [],
   "source": [
    "data = pd.read_csv('/Users/liviaalmada/NYDataset/Link Level Traffic Estimates/link-5-10-15-10', delimiter=';', header=None)"
   ]
  },
  {
   "cell_type": "code",
   "execution_count": 72,
   "metadata": {},
   "outputs": [
    {
     "data": {
      "text/html": [
       "<div>\n",
       "<style>\n",
       "    .dataframe thead tr:only-child th {\n",
       "        text-align: right;\n",
       "    }\n",
       "\n",
       "    .dataframe thead th {\n",
       "        text-align: left;\n",
       "    }\n",
       "\n",
       "    .dataframe tbody tr th {\n",
       "        vertical-align: top;\n",
       "    }\n",
       "</style>\n",
       "<table border=\"1\" class=\"dataframe\">\n",
       "  <thead>\n",
       "    <tr style=\"text-align: right;\">\n",
       "      <th></th>\n",
       "      <th>0</th>\n",
       "      <th>1</th>\n",
       "      <th>2</th>\n",
       "      <th>3</th>\n",
       "      <th>4</th>\n",
       "      <th>5</th>\n",
       "      <th>6</th>\n",
       "      <th>7</th>\n",
       "    </tr>\n",
       "  </thead>\n",
       "  <tbody>\n",
       "    <tr>\n",
       "      <th>0</th>\n",
       "      <td>0</td>\n",
       "      <td>0</td>\n",
       "      <td>False</td>\n",
       "      <td>false</td>\n",
       "      <td>LINESTRING(-74.021807 40.884127, -74.021994 40...</td>\n",
       "      <td></td>\n",
       "      <td>-1.0</td>\n",
       "      <td>-1.0</td>\n",
       "    </tr>\n",
       "    <tr>\n",
       "      <th>1</th>\n",
       "      <td>0</td>\n",
       "      <td>1</td>\n",
       "      <td>False</td>\n",
       "      <td>false</td>\n",
       "      <td>LINESTRING(-73.932264 40.64195, -73.932013 40....</td>\n",
       "      <td></td>\n",
       "      <td>-1.0</td>\n",
       "      <td>-1.0</td>\n",
       "    </tr>\n",
       "    <tr>\n",
       "      <th>2</th>\n",
       "      <td>0</td>\n",
       "      <td>2</td>\n",
       "      <td>False</td>\n",
       "      <td>false</td>\n",
       "      <td>LINESTRING(-73.932264 40.64195, -73.932509 40....</td>\n",
       "      <td></td>\n",
       "      <td>-1.0</td>\n",
       "      <td>-1.0</td>\n",
       "    </tr>\n",
       "    <tr>\n",
       "      <th>3</th>\n",
       "      <td>0</td>\n",
       "      <td>3</td>\n",
       "      <td>False</td>\n",
       "      <td>false</td>\n",
       "      <td>LINESTRING(-74.142573 40.948839, -74.143464 40...</td>\n",
       "      <td></td>\n",
       "      <td>-1.0</td>\n",
       "      <td>-1.0</td>\n",
       "    </tr>\n",
       "    <tr>\n",
       "      <th>4</th>\n",
       "      <td>0</td>\n",
       "      <td>4</td>\n",
       "      <td>False</td>\n",
       "      <td>false</td>\n",
       "      <td>LINESTRING(-73.844794 40.877882, -73.845749 40...</td>\n",
       "      <td></td>\n",
       "      <td>-1.0</td>\n",
       "      <td>-1.0</td>\n",
       "    </tr>\n",
       "  </tbody>\n",
       "</table>\n",
       "</div>"
      ],
      "text/plain": [
       "   0  1      2       3                                                  4  5  \\\n",
       "0  0  0  False   false  LINESTRING(-74.021807 40.884127, -74.021994 40...      \n",
       "1  0  1  False   false  LINESTRING(-73.932264 40.64195, -73.932013 40....      \n",
       "2  0  2  False   false  LINESTRING(-73.932264 40.64195, -73.932509 40....      \n",
       "3  0  3  False   false  LINESTRING(-74.142573 40.948839, -74.143464 40...      \n",
       "4  0  4  False   false  LINESTRING(-73.844794 40.877882, -73.845749 40...      \n",
       "\n",
       "     6    7  \n",
       "0 -1.0 -1.0  \n",
       "1 -1.0 -1.0  \n",
       "2 -1.0 -1.0  \n",
       "3 -1.0 -1.0  \n",
       "4 -1.0 -1.0  "
      ]
     },
     "execution_count": 72,
     "metadata": {},
     "output_type": "execute_result"
    }
   ],
   "source": [
    "data.head()"
   ]
  },
  {
   "cell_type": "code",
   "execution_count": 73,
   "metadata": {
    "collapsed": true
   },
   "outputs": [],
   "source": [
    "d = data[data[6]>=0]"
   ]
  },
  {
   "cell_type": "code",
   "execution_count": 74,
   "metadata": {},
   "outputs": [
    {
     "data": {
      "text/html": [
       "<div>\n",
       "<style>\n",
       "    .dataframe thead tr:only-child th {\n",
       "        text-align: right;\n",
       "    }\n",
       "\n",
       "    .dataframe thead th {\n",
       "        text-align: left;\n",
       "    }\n",
       "\n",
       "    .dataframe tbody tr th {\n",
       "        vertical-align: top;\n",
       "    }\n",
       "</style>\n",
       "<table border=\"1\" class=\"dataframe\">\n",
       "  <thead>\n",
       "    <tr style=\"text-align: right;\">\n",
       "      <th></th>\n",
       "      <th>0</th>\n",
       "      <th>1</th>\n",
       "      <th>2</th>\n",
       "      <th>3</th>\n",
       "      <th>4</th>\n",
       "      <th>5</th>\n",
       "      <th>6</th>\n",
       "      <th>7</th>\n",
       "    </tr>\n",
       "  </thead>\n",
       "  <tbody>\n",
       "    <tr>\n",
       "      <th>26</th>\n",
       "      <td>0</td>\n",
       "      <td>32</td>\n",
       "      <td>False</td>\n",
       "      <td>true</td>\n",
       "      <td>LINESTRING(-73.917419 40.660051, -73.918294 40...</td>\n",
       "      <td></td>\n",
       "      <td>15.21610</td>\n",
       "      <td>0.00000</td>\n",
       "    </tr>\n",
       "    <tr>\n",
       "      <th>39</th>\n",
       "      <td>0</td>\n",
       "      <td>45</td>\n",
       "      <td>False</td>\n",
       "      <td>true</td>\n",
       "      <td>LINESTRING(-73.882107 40.681217, -73.881155 40...</td>\n",
       "      <td></td>\n",
       "      <td>11.98050</td>\n",
       "      <td>0.00000</td>\n",
       "    </tr>\n",
       "    <tr>\n",
       "      <th>50</th>\n",
       "      <td>0</td>\n",
       "      <td>57</td>\n",
       "      <td>False</td>\n",
       "      <td>true</td>\n",
       "      <td>LINESTRING(-73.918294 40.659484, -73.919089 40...</td>\n",
       "      <td></td>\n",
       "      <td>14.27695</td>\n",
       "      <td>0.41975</td>\n",
       "    </tr>\n",
       "    <tr>\n",
       "      <th>68</th>\n",
       "      <td>0</td>\n",
       "      <td>76</td>\n",
       "      <td>False</td>\n",
       "      <td>true</td>\n",
       "      <td>LINESTRING(-73.919089 40.658966, -73.919968 40...</td>\n",
       "      <td></td>\n",
       "      <td>15.26790</td>\n",
       "      <td>0.00000</td>\n",
       "    </tr>\n",
       "    <tr>\n",
       "      <th>79</th>\n",
       "      <td>0</td>\n",
       "      <td>88</td>\n",
       "      <td>False</td>\n",
       "      <td>true</td>\n",
       "      <td>LINESTRING(-73.919968 40.658398, -73.919089 40...</td>\n",
       "      <td></td>\n",
       "      <td>10.15460</td>\n",
       "      <td>0.00000</td>\n",
       "    </tr>\n",
       "  </tbody>\n",
       "</table>\n",
       "</div>"
      ],
      "text/plain": [
       "    0   1      2      3                                                  4  5  \\\n",
       "26  0  32  False   true  LINESTRING(-73.917419 40.660051, -73.918294 40...      \n",
       "39  0  45  False   true  LINESTRING(-73.882107 40.681217, -73.881155 40...      \n",
       "50  0  57  False   true  LINESTRING(-73.918294 40.659484, -73.919089 40...      \n",
       "68  0  76  False   true  LINESTRING(-73.919089 40.658966, -73.919968 40...      \n",
       "79  0  88  False   true  LINESTRING(-73.919968 40.658398, -73.919089 40...      \n",
       "\n",
       "           6        7  \n",
       "26  15.21610  0.00000  \n",
       "39  11.98050  0.00000  \n",
       "50  14.27695  0.41975  \n",
       "68  15.26790  0.00000  \n",
       "79  10.15460  0.00000  "
      ]
     },
     "execution_count": 74,
     "metadata": {},
     "output_type": "execute_result"
    }
   ],
   "source": [
    "d = d[d[6]>=0]\n",
    "d.head()"
   ]
  },
  {
   "cell_type": "code",
   "execution_count": 75,
   "metadata": {},
   "outputs": [
    {
     "data": {
      "text/plain": [
       "480"
      ]
     },
     "execution_count": 75,
     "metadata": {},
     "output_type": "execute_result"
    }
   ],
   "source": [
    "d1 = d[d[0]==3]\n",
    "d1 = d1.get_values()\n",
    "d1.size"
   ]
  },
  {
   "cell_type": "code",
   "execution_count": 20,
   "metadata": {},
   "outputs": [
    {
     "name": "stdout",
     "output_type": "stream",
     "text": [
      "0 1 0.367924752927\n",
      "0 2 0.187021740081\n",
      "0 3 0.534305415361\n",
      "0 4 0.17601895493\n",
      "0 5 0.230478564273\n",
      "1 0 0.261683463935\n",
      "1 2 0.237350825244\n",
      "1 3 0.615496927022\n",
      "1 4 0.172203654987\n",
      "1 5 0.327446012625\n",
      "2 0 0.161660687843\n",
      "2 1 0.171497196503\n",
      "2 3 0.518780666581\n",
      "2 4 0.0844136673868\n",
      "2 5 0.236647812949\n",
      "3 0 0.503928052551\n",
      "3 1 0.606727065491\n",
      "3 2 0.590378764975\n",
      "3 4 0.573484990279\n",
      "3 5 0.659697583002\n",
      "4 0 0.128915835995\n",
      "4 1 0.225385644153\n",
      "4 2 0.0869728900141\n",
      "4 3 0.567232307837\n",
      "4 5 0.291142064146\n",
      "5 0 0.153639612123\n",
      "5 1 0.346670606083\n",
      "5 2 0.204858707946\n",
      "5 3 0.717224494605\n",
      "5 4 0.155216694033\n"
     ]
    }
   ],
   "source": [
    "for i in range(0,len(d1)):\n",
    "    for j in range(0,len(d1)):\n",
    "        if(i!=j):        \n",
    "            x = st.kstest(st.norm.rvs(size=100, loc=d1[i,6], scale=d1[i,7]),\"norm\", args=(d1[j,6],d1[j,7]))\n",
    "            print(i, j, x.statistic)\n",
    "            "
   ]
  },
  {
   "cell_type": "code",
   "execution_count": 24,
   "metadata": {
    "collapsed": true
   },
   "outputs": [],
   "source": [
    "def compactness(cluster):\n",
    "    n = 1\n",
    "    x = 0\n",
    "    print(len(cluster))\n",
    "    for i in range(0,len(cluster)):\n",
    "        for j in range(0,len(cluster)):\n",
    "            if(i!=j):       \n",
    "                stat = st.kstest(st.norm.rvs(size=100, loc=cluster[i,6], scale=cluster[i,7]),\"norm\", args=(cluster[j,6],cluster[j,7]))\n",
    "                x = x + stat.statistic \n",
    "                \n",
    "    return x/(len(cluster)*(len(cluster)-1)*2)"
   ]
  },
  {
   "cell_type": "code",
   "execution_count": 67,
   "metadata": {},
   "outputs": [
    {
     "name": "stdout",
     "output_type": "stream",
     "text": [
      "16\n"
     ]
    },
    {
     "data": {
      "text/plain": [
       "0.15942472518485157"
      ]
     },
     "execution_count": 67,
     "metadata": {},
     "output_type": "execute_result"
    }
   ],
   "source": [
    "c = d[d[0]==9].get_values()\n",
    "compactness(c)"
   ]
  },
  {
   "cell_type": "code",
   "execution_count": 30,
   "metadata": {
    "collapsed": true
   },
   "outputs": [],
   "source": [
    "def separation(cluster1, cluster2):\n",
    "    n = 0\n",
    "    x = 0\n",
    "    for i in range(0,len(cluster1)):\n",
    "        for j in range(0,len(cluster2)):\n",
    "            stat = st.kstest(st.norm.rvs(size=100, loc=cluster1[i,6], scale=cluster1[i,7]),\"norm\", args=(cluster2[j,6],cluster2[j,7]))\n",
    "            x = x + stat.statistic \n",
    "            n=n+1\n",
    "    return x/n    "
   ]
  },
  {
   "cell_type": "code",
   "execution_count": 37,
   "metadata": {},
   "outputs": [
    {
     "name": "stdout",
     "output_type": "stream",
     "text": [
      "80\n",
      "88\n"
     ]
    }
   ],
   "source": [
    "c1 = d[d[0]==2].get_values()\n",
    "c2 = d[d[0]==5].get_values()\n",
    "print(c1.size)\n",
    "print(c2.size)"
   ]
  },
  {
   "cell_type": "code",
   "execution_count": 59,
   "metadata": {},
   "outputs": [],
   "source": [
    "#d.groupby(d[0])[0].agg(['count', 'min', 'max'])"
   ]
  },
  {
   "cell_type": "code",
   "execution_count": null,
   "metadata": {},
   "outputs": [],
   "source": [
    "separation(c1,c2)"
   ]
  },
  {
   "cell_type": "code",
   "execution_count": 12,
   "metadata": {
    "collapsed": true
   },
   "outputs": [],
   "source": [
    "def compactness_mean(clusters):\n",
    "    sum_comp = 0\n",
    "    for c in clusters:\n",
    "        compac = compactness(c)\n",
    "        sum_comp = sum_comp + compac\n",
    "      \n",
    "    return sum_comp / len(clusters)"
   ]
  },
  {
   "cell_type": "code",
   "execution_count": 20,
   "metadata": {
    "collapsed": true
   },
   "outputs": [],
   "source": [
    "cls = d\n"
   ]
  },
  {
   "cell_type": "code",
   "execution_count": 21,
   "metadata": {},
   "outputs": [
    {
     "data": {
      "text/plain": [
       "96"
      ]
     },
     "execution_count": 21,
     "metadata": {},
     "output_type": "execute_result"
    }
   ],
   "source": [
    "len(c)"
   ]
  },
  {
   "cell_type": "code",
   "execution_count": 61,
   "metadata": {},
   "outputs": [],
   "source": [
    "clusters = list()\n",
    "c = np.unique(d[0].get_values())\n",
    "for cluster in c:\n",
    "    if (cluster > 0):\n",
    "        clusterl = d[d[0]==cluster].get_values()\n",
    "        if(len(clusterl)>1):\n",
    "            clusters.append(clusterl)"
   ]
  },
  {
   "cell_type": "code",
   "execution_count": 64,
   "metadata": {},
   "outputs": [
    {
     "data": {
      "text/plain": [
       "80"
      ]
     },
     "execution_count": 64,
     "metadata": {},
     "output_type": "execute_result"
    }
   ],
   "source": [
    "clusters[1].size"
   ]
  },
  {
   "cell_type": "code",
   "execution_count": null,
   "metadata": {},
   "outputs": [
    {
     "name": "stdout",
     "output_type": "stream",
     "text": [
      "31232\n"
     ]
    }
   ],
   "source": [
    "compactness_mean(clusters)"
   ]
  },
  {
   "cell_type": "code",
   "execution_count": 23,
   "metadata": {
    "collapsed": true
   },
   "outputs": [],
   "source": [
    "def separation_mean(clusters):\n",
    "    sum_comp = 0\n",
    "    for c1 in range(0,len(clusters)):\n",
    "        for c2 in range(0,len(clusters)):\n",
    "            if(c1!=c2):\n",
    "                sum_comp = sum_comp + separation(clusters[c1],clusters[c2])\n",
    "    return sum_comp / (len(clusters)*(len(clusters)-1))"
   ]
  },
  {
   "cell_type": "code",
   "execution_count": null,
   "metadata": {},
   "outputs": [],
   "source": [
    "separation_mean(clusters)"
   ]
  },
  {
   "cell_type": "code",
   "execution_count": null,
   "metadata": {
    "collapsed": true
   },
   "outputs": [],
   "source": []
  }
 ],
 "metadata": {
  "kernelspec": {
   "display_name": "Python 3",
   "language": "python",
   "name": "python3"
  },
  "language_info": {
   "codemirror_mode": {
    "name": "ipython",
    "version": 3
   },
   "file_extension": ".py",
   "mimetype": "text/x-python",
   "name": "python",
   "nbconvert_exporter": "python",
   "pygments_lexer": "ipython3",
   "version": "3.6.1"
  }
 },
 "nbformat": 4,
 "nbformat_minor": 2
}
